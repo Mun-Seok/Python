{
 "cells": [
  {
   "cell_type": "code",
   "execution_count": 4,
   "metadata": {},
   "outputs": [
    {
     "name": "stdout",
     "output_type": "stream",
     "text": [
      "7 나누기 3는 2.3333333333333335입니다\n"
     ]
    }
   ],
   "source": [
    "a=int(input('제수를 입력하세요'))\n",
    "b=int(input('피제수를 입력하세요'))\n",
    "if b==0:\n",
    "    print('0으로 나누는 것은 불가능합니다.')\n",
    "else:\n",
    "    print('{} 나누기 {}는 {}입니다'.format(a,b,a/b))"
   ]
  },
  {
   "cell_type": "code",
   "execution_count": 2,
   "metadata": {},
   "outputs": [
    {
     "name": "stdout",
     "output_type": "stream",
     "text": [
      "10.0나누기 3.0는 3.3333333333333335입니다\n",
      "예외발생했습니다\n",
      "예외발생했습니다\n"
     ]
    }
   ],
   "source": [
    "while(True):\n",
    "    try:\n",
    "        a=float(input('분자를 입력하세요'))\n",
    "        b=float(input('분모를 입력하세요'))\n",
    "        if a==1000:\n",
    "            break\n",
    "        print('{}나누기 {}는 {}입니다'.format(a,b,a/b))\n",
    "    except:\n",
    "        print('예외발생했습니다')"
   ]
  },
  {
   "cell_type": "code",
   "execution_count": null,
   "metadata": {},
   "outputs": [],
   "source": [
    "while(True):\n",
    "    try:\n",
    "        height=input('키를 입력하세요')\n",
    "        if height=='1000':\n",
    "            break\n",
    "        elif height==1000:\n",
    "            break\n",
    "        height=round(height)\n",
    "        print('입력하신 키는 {}cm로 처리됩니다.'.format(height))\n",
    "    except:\n",
    "        print('예외가 발생했습니다.')"
   ]
  },
  {
   "cell_type": "code",
   "execution_count": 5,
   "metadata": {},
   "outputs": [
    {
     "name": "stdout",
     "output_type": "stream",
     "text": [
      "5.0나누기 3.0는 1.6666666666666667입니다\n",
      "에러가 없이 잘 작동되었습니다.\n",
      "에러가 있든 없든 실행~\n",
      "float division by zero\n",
      "예외발생했습니다\n",
      "에러가 있든 없든 실행~\n",
      "에러가 있든 없든 실행~\n"
     ]
    }
   ],
   "source": [
    "while(True):\n",
    "    try:\n",
    "        a=float(input('분자를 입력하세요'))\n",
    "        b=float(input('분모를 입력하세요'))\n",
    "        if a==1000:\n",
    "            break\n",
    "        print('{}나누기 {}는 {}입니다'.format(a,b,a/b))\n",
    "    except ZeroDivisionError as e:\n",
    "        print(e)\n",
    "        print('예외발생했습니다')\n",
    "    except ValueError as e:\n",
    "        print(e)\n",
    "        print('값이 잘못 들어갔습니다.')\n",
    "    else:\n",
    "        print('에러가 없이 잘 작동되었습니다.')\n",
    "    finally:\n",
    "        print('에러가 있든 없든 실행~')"
   ]
  },
  {
   "cell_type": "code",
   "execution_count": 16,
   "metadata": {},
   "outputs": [
    {
     "name": "stdout",
     "output_type": "stream",
     "text": [
      "Welcome Python\n",
      "h\n",
      "i\n",
      "프로그램을 종료합니다.\n"
     ]
    }
   ],
   "source": [
    "try:\n",
    "    filename=input('열고자 하는 파일명을 입력하세요')\n",
    "    file=open(filename,'rt')\n",
    "except FileNotFoundError:\n",
    "    print('{}파일이 존재하지 않습니다.'.format(filename))\n",
    "else:\n",
    "    buffer=file.read()\n",
    "    print(buffer,end='')\n",
    "    print()\n",
    "    file.close()\n",
    "finally:\n",
    "    print('프로그램을 종료합니다.')"
   ]
  },
  {
   "cell_type": "code",
   "execution_count": 15,
   "metadata": {},
   "outputs": [
    {
     "name": "stdout",
     "output_type": "stream",
     "text": [
      "예외가 발생한 메세지 입니다.\n",
      "강제예외\n"
     ]
    }
   ],
   "source": [
    "try:\n",
    "    raise Exception('강제예외')\n",
    "except Exception as e:\n",
    "    print('예외가 발생한 메세지 입니다.')\n",
    "    print(e)"
   ]
  },
  {
   "cell_type": "code",
   "execution_count": 20,
   "metadata": {},
   "outputs": [
    {
     "name": "stdout",
     "output_type": "stream",
     "text": [
      "점수는 0~100사이입니다.\n"
     ]
    }
   ],
   "source": [
    "try:\n",
    "    score=int(input('점수를 입력하세요'))\n",
    "    if score<0 or score>100:\n",
    "        raise Exception('점수는 0~100사이입니다.')\n",
    "except Exception as e:\n",
    "    print(e)\n",
    "else:\n",
    "    if score>=80:\n",
    "        print('{}점은 합격입니다.'.format(score))\n",
    "    else:\n",
    "        print('{}점은 불합격입니다.'.format(score))"
   ]
  },
  {
   "cell_type": "code",
   "execution_count": 24,
   "metadata": {},
   "outputs": [
    {
     "name": "stdout",
     "output_type": "stream",
     "text": [
      "입력된 시간은 20입니다\n"
     ]
    }
   ],
   "source": [
    "class HourError(Exception):\n",
    "    def __init__(self):\n",
    "        super().__init__('올바른 시간이 아닙니다')\n",
    "try:\n",
    "    hour=int(input('시간을 입력해주세요'))\n",
    "    if hour<0 or hour>23:\n",
    "        raise HourError\n",
    "except HourError as e:\n",
    "    print(e)\n",
    "else:\n",
    "    print('입력된 시간은 {}시입니다'.format(hour))"
   ]
  },
  {
   "cell_type": "code",
   "execution_count": 28,
   "metadata": {},
   "outputs": [
    {
     "name": "stdout",
     "output_type": "stream",
     "text": [
      "이름은 2~6자 사이로 입력해주세요\n"
     ]
    }
   ],
   "source": [
    "class NameError(Exception):\n",
    "\n",
    "    def __init__(self, message):\n",
    "        super().__init__(message)\n",
    "\n",
    "try:\n",
    "    name=input('이름을 입력하세요')\n",
    "    if len(name)<2 or len(name)>6:\n",
    "        raise NameError('이름은 2~6자 사이로 입력해주세요')\n",
    "except NameError as e:\n",
    "    print(e)\n",
    "else:\n",
    "    print('입력된 이름은 {}입니다.'.format(name))"
   ]
  }
 ],
 "metadata": {
  "interpreter": {
   "hash": "97ae724bfa85b9b34df7982b8bb8c7216f435b92902d749e4263f71162bea840"
  },
  "kernelspec": {
   "display_name": "Python 3.9.7 64-bit ('base': conda)",
   "language": "python",
   "name": "python3"
  },
  "language_info": {
   "codemirror_mode": {
    "name": "ipython",
    "version": 3
   },
   "file_extension": ".py",
   "mimetype": "text/x-python",
   "name": "python",
   "nbconvert_exporter": "python",
   "pygments_lexer": "ipython3",
   "version": "3.9.7"
  },
  "orig_nbformat": 4
 },
 "nbformat": 4,
 "nbformat_minor": 2
}
