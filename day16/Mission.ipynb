{
 "cells": [
  {
   "cell_type": "code",
   "execution_count": 11,
   "metadata": {},
   "outputs": [
    {
     "name": "stdout",
     "output_type": "stream",
     "text": [
      "우리나라의 9개 도를 모두 맞히는 퀴즈입니다. 하나씩 대답하세요\n",
      "틀렸습니다.\n",
      "정답이 아니거나 중복된 답입니다.\n",
      "모든 도를 맞혔습니다. 성공입니다.\n"
     ]
    }
   ],
   "source": [
    "class Quiz(Exception):\n",
    "    answer=['경기도','강원도','충청남도','충청북도','전라남도','전라북도','경상남도','경상북도','제주특별자치도']\n",
    "\n",
    "    @classmethod\n",
    "    def challenge(cls):\n",
    "        value=input('정답을 맞춰주세요')\n",
    "        if value in cls.answer:\n",
    "            print('정답입니다.')\n",
    "            cls.answer.pop(value)\n",
    "        else:\n",
    "            print('틀렸습니다.')\n",
    "            raise Exception('정답이 아니거나 중복된 답입니다.')        \n",
    "while(True):\n",
    "    if len(Quiz.answer)==5:\n",
    "        print('모든 도를 맞추었습니다.')\n",
    "        break\n",
    "    try:\n",
    "        print('우리나라의 9개 도를 모두 맞히는 퀴즈입니다. 하나씩 대답하세요')\n",
    "        Quiz.challenge()\n",
    "    except Exception as e:\n",
    "        print(e)"
   ]
  },
  {
   "cell_type": "code",
   "execution_count": 5,
   "metadata": {},
   "outputs": [
    {
     "name": "stdout",
     "output_type": "stream",
     "text": [
      "1~100사이만 입력하세요.\n",
      "UP\n",
      "Down\n",
      "Down\n",
      "UP\n",
      "Down\n",
      "Down\n",
      "Down\n",
      "Down\n",
      "Down\n",
      "Down\n",
      "Down\n",
      "Down\n",
      "Down\n",
      "14번만의 정답입니다.\n"
     ]
    }
   ],
   "source": [
    "import random\n",
    "\n",
    "class UpDown():\n",
    "    def play(self):\n",
    "        count=0\n",
    "        r=random.randint(1,100)\n",
    "        while(True):\n",
    "            User=int(input('입력(1~100)'))\n",
    "            if User==r:\n",
    "                count+=1\n",
    "                print('{}번만의 정답입니다.'.format(count))\n",
    "                break\n",
    "            elif User<r and User<100:\n",
    "                print('UP')\n",
    "                count+=1\n",
    "            elif User>r and User<100:\n",
    "                print('Down')\n",
    "                count+=1\n",
    "            else:\n",
    "                print('1~100사이만 입력하세요.')\n",
    "game=UpDown()\n",
    "game.play()\n",
    "    "
   ]
  },
  {
   "cell_type": "code",
   "execution_count": 26,
   "metadata": {},
   "outputs": [],
   "source": [
    "class BankError(Exception):\n",
    "    def __init__(self, message):\n",
    "        super().__init__(message)\n",
    "\n",
    "class BankAccount:\n",
    "    def __init__(self,acc_no,balance):\n",
    "        self.acc_no=acc_no\n",
    "        self.balance=balance\n",
    "    def deposit(self,money):\n",
    "        if money>0:\n",
    "            self.balance+=money\n",
    "        else:\n",
    "            raise BankError('{}입금불가'.format(money))\n",
    "    def withdraw(self,money):\n",
    "        if money<0:\n",
    "            raise BankError('{}출금불가'.format(money))\n",
    "        elif self.balance<money:\n",
    "            raise BankError('잔액부족')\n",
    "        else:\n",
    "            self.balance-=money\n",
    "        return self.balance\n",
    "    def transfer(object,a,b,money):\n",
    "        a.withdraw(money)\n",
    "        b.deposit(money)\n",
    "    def inquiry(self):\n",
    "        print('계좌번호:{},통장잔액:{}'.format(self.acc_no,self.balance))"
   ]
  },
  {
   "cell_type": "code",
   "execution_count": 20,
   "metadata": {},
   "outputs": [
    {
     "name": "stdout",
     "output_type": "stream",
     "text": [
      "-1000입금불가\n",
      "계좌번호:012-34-56789,통장잔액:50000\n"
     ]
    }
   ],
   "source": [
    "me=BankAccount('012-34-56789',50000)\n",
    "try:\n",
    "    me.deposit(-1000)\n",
    "except Exception as e:\n",
    "    print(e)\n",
    "finally:\n",
    "    me.inquiry()"
   ]
  },
  {
   "cell_type": "code",
   "execution_count": 27,
   "metadata": {},
   "outputs": [
    {
     "name": "stdout",
     "output_type": "stream",
     "text": [
      "-1000출금불가\n",
      "계좌번호:012-34-56789,통장잔액:50000\n"
     ]
    }
   ],
   "source": [
    "me=BankAccount('012-34-56789',50000)\n",
    "try:\n",
    "    me.withdraw(-1000)\n",
    "except Exception as e:\n",
    "    print(e)\n",
    "finally:\n",
    "    me.inquiry()"
   ]
  },
  {
   "cell_type": "code",
   "execution_count": 28,
   "metadata": {},
   "outputs": [
    {
     "name": "stdout",
     "output_type": "stream",
     "text": [
      "잔액부족\n",
      "계좌번호:012-34-56789,통장잔액:50000\n"
     ]
    }
   ],
   "source": [
    "me=BankAccount('012-34-56789',50000)\n",
    "try:\n",
    "    me.withdraw(300000)\n",
    "except Exception as e:\n",
    "    print(e)\n",
    "finally:\n",
    "    me.inquiry()"
   ]
  },
  {
   "cell_type": "code",
   "execution_count": 30,
   "metadata": {},
   "outputs": [
    {
     "name": "stdout",
     "output_type": "stream",
     "text": [
      "계좌번호:012-34-56789,통장잔액:45000\n",
      "계좌번호:987-65-43210,통장잔액:55000\n"
     ]
    }
   ],
   "source": [
    "me=BankAccount('012-34-56789',50000)\n",
    "you=BankAccount('987-65-43210',50000)\n",
    "try:\n",
    "    me.transfer(me,you,5000)\n",
    "except Exception as e:\n",
    "    print(e)\n",
    "finally:\n",
    "    me.inquiry()\n",
    "    you.inquiry()"
   ]
  }
 ],
 "metadata": {
  "interpreter": {
   "hash": "97ae724bfa85b9b34df7982b8bb8c7216f435b92902d749e4263f71162bea840"
  },
  "kernelspec": {
   "display_name": "Python 3.9.7 64-bit ('base': conda)",
   "language": "python",
   "name": "python3"
  },
  "language_info": {
   "codemirror_mode": {
    "name": "ipython",
    "version": 3
   },
   "file_extension": ".py",
   "mimetype": "text/x-python",
   "name": "python",
   "nbconvert_exporter": "python",
   "pygments_lexer": "ipython3",
   "version": "3.9.7"
  },
  "orig_nbformat": 4
 },
 "nbformat": 4,
 "nbformat_minor": 2
}
