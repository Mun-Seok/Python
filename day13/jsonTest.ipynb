{
 "cells": [
  {
   "cell_type": "code",
   "execution_count": 11,
   "metadata": {},
   "outputs": [
    {
     "name": "stdout",
     "output_type": "stream",
     "text": [
      "dictList.json파일이 생성되었습니다.\n"
     ]
    }
   ],
   "source": [
    "import json\n",
    "\n",
    "dict_list=[\n",
    "    {\n",
    "        'name':'james',\n",
    "        'age':20,\n",
    "        'spec':[\n",
    "            175.5,\n",
    "            70.5\n",
    "        ]\n",
    "    },\n",
    "    {\n",
    "         'name':'alice',\n",
    "        'age':21,\n",
    "        'spec':[\n",
    "            168.5,\n",
    "            60.5\n",
    "        ]\n",
    "    }\n",
    "]\n",
    "json_string=json.dumps(dict_list,indent=4)\n",
    "with open('dictList.json','w') as file:\n",
    "    file.write(json_string)\n",
    "print('dictList.json파일이 생성되었습니다.')"
   ]
  },
  {
   "cell_type": "code",
   "execution_count": 12,
   "metadata": {},
   "outputs": [
    {
     "name": "stdout",
     "output_type": "stream",
     "text": [
      "이름:james\n",
      "나이:20\n",
      "키:175.5\n",
      "몸무게:70.5\n",
      "\n",
      "이름:alice\n",
      "나이:21\n",
      "키:168.5\n",
      "몸무게:60.5\n",
      "\n"
     ]
    }
   ],
   "source": [
    "with open('dictList.json','r')as file:\n",
    "    json_reader=file.read()\n",
    "    dict_list=json.loads(json_reader)\n",
    "for dic in dict_list:\n",
    "    print('이름:{}'.format(dic['name']))\n",
    "    print('나이:{}'.format(dic['age']))\n",
    "    print('키:{}'.format(dic['spec'][0]))\n",
    "    print('몸무게:{}'.format(dic['spec'][1]))\n",
    "    print()"
   ]
  }
 ],
 "metadata": {
  "interpreter": {
   "hash": "97ae724bfa85b9b34df7982b8bb8c7216f435b92902d749e4263f71162bea840"
  },
  "kernelspec": {
   "display_name": "Python 3.9.7 64-bit ('base': conda)",
   "language": "python",
   "name": "python3"
  },
  "language_info": {
   "codemirror_mode": {
    "name": "ipython",
    "version": 3
   },
   "file_extension": ".py",
   "mimetype": "text/x-python",
   "name": "python",
   "nbconvert_exporter": "python",
   "pygments_lexer": "ipython3",
   "version": "3.9.7"
  },
  "orig_nbformat": 4
 },
 "nbformat": 4,
 "nbformat_minor": 2
}
