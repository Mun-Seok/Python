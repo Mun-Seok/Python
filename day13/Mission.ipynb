{
 "cells": [
  {
   "cell_type": "code",
   "execution_count": 20,
   "metadata": {},
   "outputs": [
    {
     "name": "stdout",
     "output_type": "stream",
     "text": [
      "복사가 완료되었습니다.\n"
     ]
    }
   ],
   "source": [
    "while True:\n",
    "    target=input('복사할 파일명을 입력하세요>>>')\n",
    "    if target[-4:]=='.txt':#37page참조\n",
    "        #파일 복사 234page참조\n",
    "        with open(target,'r',encoding='UTF=8')as source:\n",
    "            with open('복사본-'+target,'w',encoding='UTF=8') as copy:\n",
    "                while True:\n",
    "                    v=source.readline()\n",
    "                    if not v:\n",
    "                        break\n",
    "                    copy.write(v)\n",
    "\n",
    "        break\n",
    "    else:\n",
    "        print('복사할 수 없는 파일입니다.')\n",
    "print('복사가 완료되었습니다.')\n"
   ]
  },
  {
   "cell_type": "code",
   "execution_count": 19,
   "metadata": {},
   "outputs": [
    {
     "name": "stdout",
     "output_type": "stream",
     "text": [
      ".txt\n"
     ]
    }
   ],
   "source": [
    "test2='asdf.txt'\n",
    "print(test2[-4:])"
   ]
  },
  {
   "cell_type": "code",
   "execution_count": 18,
   "metadata": {},
   "outputs": [
    {
     "name": "stdout",
     "output_type": "stream",
     "text": [
      "서울특별시 마포구에 설치된 CCTV는 총2167대입니다.\n"
     ]
    }
   ],
   "source": [
    "import csv\n",
    "count=0\n",
    "with open('cctv.csv','r',newline='')as file:\n",
    "    csv_reader=csv.reader(file,delimiter=',',quotechar='\"')\n",
    "    for line in csv_reader:\n",
    "        if line[4].isnumeric():\n",
    "            count+=int(line[4])\n",
    "print('서울특별시 마포구에 설치된 CCTV는 총{}대입니다.'.format(count))"
   ]
  },
  {
   "cell_type": "code",
   "execution_count": 25,
   "metadata": {},
   "outputs": [
    {
     "name": "stdout",
     "output_type": "stream",
     "text": [
      "{'방범(그린파킹)', '방범(경찰 설치)', '주정차단속', '방범(공원)', '방범(치수과)', '방범', '방범(어린이보호구역)'}\n"
     ]
    }
   ],
   "source": [
    "import json\n",
    "\n",
    "with open('cctv.json','r',encoding='utf-8') as f:\n",
    "    json_data=json.load(f)\n",
    "my_set=set()\n",
    "for i in json_data:\n",
    "    my_set.add(i['설치목적구분'])\n",
    "print(my_set)"
   ]
  },
  {
   "cell_type": "code",
   "execution_count": 26,
   "metadata": {},
   "outputs": [
    {
     "data": {
      "text/plain": [
       "0.07212239462143699"
      ]
     },
     "execution_count": 26,
     "metadata": {},
     "output_type": "execute_result"
    }
   ],
   "source": [
    "import random\n",
    "rd=random.random()\n",
    "rd"
   ]
  }
 ],
 "metadata": {
  "interpreter": {
   "hash": "97ae724bfa85b9b34df7982b8bb8c7216f435b92902d749e4263f71162bea840"
  },
  "kernelspec": {
   "display_name": "Python 3.9.7 64-bit ('base': conda)",
   "language": "python",
   "name": "python3"
  },
  "language_info": {
   "codemirror_mode": {
    "name": "ipython",
    "version": 3
   },
   "file_extension": ".py",
   "mimetype": "text/x-python",
   "name": "python",
   "nbconvert_exporter": "python",
   "pygments_lexer": "ipython3",
   "version": "3.9.7"
  },
  "orig_nbformat": 4
 },
 "nbformat": 4,
 "nbformat_minor": 2
}
