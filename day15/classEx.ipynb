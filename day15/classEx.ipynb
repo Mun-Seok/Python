{
 "cells": [
  {
   "cell_type": "code",
   "execution_count": null,
   "metadata": {},
   "outputs": [],
   "source": [
    "class Candy:\n",
    "    def __init__(self) -> None:\n",
    "        pass\n",
    "    def set_info(self,shape,color):\n",
    "        self.shape=shape\n",
    "        self.color=color\n",
    "\n",
    "satang=Candy()\n",
    "satang.set_info('circle','brown')"
   ]
  },
  {
   "cell_type": "code",
   "execution_count": null,
   "metadata": {},
   "outputs": [],
   "source": [
    "class Candy:\n",
    "    def __init__(self,shape,color):\n",
    "        self.shape=shape\n",
    "        self.color=color\n",
    "satang=Candy('circle','brown')"
   ]
  },
  {
   "cell_type": "code",
   "execution_count": 1,
   "metadata": {},
   "outputs": [
    {
     "name": "stdout",
     "output_type": "stream",
     "text": [
      "소멸\n"
     ]
    }
   ],
   "source": [
    "class Candy:\n",
    "    def __init__(self,shape,color):\n",
    "        self.shape=shape\n",
    "        self.color=color\n",
    "    def __del__(self):\n",
    "        print('소멸')\n",
    "satang=Candy('circle','brown')\n",
    "del satang"
   ]
  },
  {
   "cell_type": "code",
   "execution_count": 3,
   "metadata": {},
   "outputs": [
    {
     "name": "stdout",
     "output_type": "stream",
     "text": [
      "64GB USB\n"
     ]
    }
   ],
   "source": [
    "class USB:\n",
    "    def __init__(self,capacity):\n",
    "        self.capacity=capacity\n",
    "    def info(self):\n",
    "        print('{}GB USB'.format(self.capacity))\n",
    "usb=USB(64)\n",
    "usb.info()"
   ]
  },
  {
   "cell_type": "code",
   "execution_count": 5,
   "metadata": {},
   "outputs": [
    {
     "name": "stdout",
     "output_type": "stream",
     "text": [
      "길안내 Service가 시작되었습니다.\n",
      "길안내 Service가 종료되었습니다.\n",
      "ㅇ Service가 시작되었습니다.\n",
      "ㅇ Service가 종료되었습니다.\n"
     ]
    }
   ],
   "source": [
    "class Service:\n",
    "    def __init__(self,service):\n",
    "        self.service=service\n",
    "        print('{} Service가 시작되었습니다.'.format(self.service))\n",
    "    def __del__(self):\n",
    "        print('{} Service가 종료되었습니다.'.format(self.service))\n",
    "s=Service('길안내')\n",
    "del s"
   ]
  },
  {
   "cell_type": "code",
   "execution_count": 8,
   "metadata": {},
   "outputs": [
    {
     "name": "stdout",
     "output_type": "stream",
     "text": [
      "내 이름은 홍길동이고 나는 한국사람이야\n",
      "내 이름은 나길동이고 나는 한국사람이야\n",
      "내 이름은 다길동이고 나는 한국사람이야\n",
      "한국\n",
      "내 이름은 홍길동이고 나는 미국인사람이야\n",
      "내 이름은 나길동이고 나는 미국인사람이야\n",
      "내 이름은 다길동이고 나는 미국인사람이야\n",
      "내 이름은 sbs아카데미이고 나는 미국인사람이야\n",
      "내 이름은 나길동이고 나는 미국인사람이야\n",
      "내 이름은 다길동이고 나는 미국인사람이야\n",
      "내 이름은 sbs아카데미이고 나는 외계인사람이야\n",
      "내 이름은 나길동이고 나는 외계인사람이야\n",
      "내 이름은 다길동이고 나는 외계인사람이야\n"
     ]
    }
   ],
   "source": [
    "class Korean:\n",
    "    country='한국'#클래스변수\n",
    "    def __init__(self,name,age,address):\n",
    "        self.name=name#인스턴스 변수\n",
    "        self.age=age\n",
    "        self.address=address\n",
    "    def print_info(self):\n",
    "        print('내 이름은 {}이고 나는 {}사람이야'.format(self.name,Korean.country))\n",
    "man1=Korean('홍길동',35,'서울')\n",
    "man1.print_info()\n",
    "man2=Korean('나길동',35,'서울')\n",
    "man2.print_info()\n",
    "man3=Korean('다길동',35,'서울')\n",
    "man3.print_info()\n",
    "print(Korean.country)\n",
    "Korean.country='미국인'\n",
    "man1.print_info()\n",
    "man2.print_info()\n",
    "man3.print_info()\n",
    "man1.name='sbs아카데미'\n",
    "man1.print_info()\n",
    "man2.print_info()\n",
    "man3.print_info()\n",
    "Korean.country='외계인'\n",
    "man1.print_info()\n",
    "man2.print_info()\n",
    "man3.print_info()"
   ]
  },
  {
   "cell_type": "code",
   "execution_count": 10,
   "metadata": {},
   "outputs": [
    {
     "name": "stdout",
     "output_type": "stream",
     "text": [
      "국내여행입니다.\n",
      "해외여행입니다.\n"
     ]
    }
   ],
   "source": [
    "class Korean:\n",
    "    country='한국'#클래스변수\n",
    "    def __init__(self,name,age,address):\n",
    "        self.name=name#인스턴스 변수\n",
    "        self.age=age\n",
    "        self.address=address\n",
    "    def print_info(self):\n",
    "        print('내 이름은 {}이고 나는 {}사람이야'.format(self.name,Korean.country))\n",
    "    @classmethod\n",
    "    def trip(cls,country):\n",
    "        if cls.country==country:\n",
    "            print('국내여행입니다.')\n",
    "        else:\n",
    "            print('해외여행입니다.')\n",
    "    Korean.trip('한국')\n",
    "    t=Korean('나길동',25,'서울')\n",
    "    t.trip('미국')"
   ]
  },
  {
   "cell_type": "code",
   "execution_count": 12,
   "metadata": {},
   "outputs": [
    {
     "name": "stdout",
     "output_type": "stream",
     "text": [
      "Imagine your Korea\n"
     ]
    }
   ],
   "source": [
    "class Korean:\n",
    "    country='한국'#클래스변수\n",
    "    @staticmethod\n",
    "    def slogan():\n",
    "        print('Imagine your Korea')\n",
    "Korean.slogan()"
   ]
  },
  {
   "cell_type": "code",
   "execution_count": 15,
   "metadata": {},
   "outputs": [
    {
     "name": "stdout",
     "output_type": "stream",
     "text": [
      "현재가방:0개\n",
      "현재가방:3개\n",
      "현재가방:1개\n"
     ]
    }
   ],
   "source": [
    "class Bag:\n",
    "    count=0\n",
    "    def __init__(self):\n",
    "        Bag.count+=1\n",
    "    @classmethod\n",
    "    def sell(cls):\n",
    "        cls.count-=1\n",
    "    @classmethod\n",
    "    def remain_bag(cls):\n",
    "        return cls.count\n",
    "\n",
    "print('현재가방:{}개'.format(Bag.remain_bag()))\n",
    "bag1=Bag()\n",
    "bag2=Bag()\n",
    "bag3=Bag()\n",
    "print('현재가방:{}개'.format(Bag.remain_bag()))\n",
    "bag1.sell()\n",
    "bag2.sell()\n",
    "print('현재가방:{}개'.format(Bag.remain_bag()))"
   ]
  },
  {
   "cell_type": "code",
   "execution_count": 18,
   "metadata": {},
   "outputs": [
    {
     "name": "stdout",
     "output_type": "stream",
     "text": [
      "해리포터가 감자를 먹습니다.\n",
      "해리포터는 호그와트에서 공부를 합니다\n"
     ]
    }
   ],
   "source": [
    "class Person:\n",
    "    def __init__(self,name):\n",
    "        self.name=name\n",
    "    def eat(self,food):\n",
    "        print('{}가 {}를 먹습니다.'.format(self.name,food))\n",
    "class Student(Person):\n",
    "    def __init__(self, name,school):\n",
    "        super().__init__(name)\n",
    "        self.school=school\n",
    "    def study(self):\n",
    "        print('{}는 {}에서 공부를 합니다'.format(self.name,self.school))\n",
    "potter=Student('해리포터','호그와트')\n",
    "potter.eat('감자')\n",
    "potter.study()     "
   ]
  },
  {
   "cell_type": "code",
   "execution_count": 19,
   "metadata": {},
   "outputs": [
    {
     "name": "stdout",
     "output_type": "stream",
     "text": [
      "True\n",
      "True\n"
     ]
    }
   ],
   "source": [
    "print(isinstance(potter,Student))\n",
    "print(isinstance(potter,Person))"
   ]
  },
  {
   "cell_type": "code",
   "execution_count": 20,
   "metadata": {},
   "outputs": [
    {
     "name": "stdout",
     "output_type": "stream",
     "text": [
      "원두:콜롬비아\n",
      "물:30ml\n"
     ]
    }
   ],
   "source": [
    "class Coffee:\n",
    "    def __init__(self,bean):\n",
    "        self.bean=bean\n",
    "    def coffee_info(self):\n",
    "        print('원두:{}'.format(self.bean))\n",
    "class Espresso(Coffee):\n",
    "    def __init__(self, bean,water):\n",
    "        super().__init__(bean)\n",
    "        self.water=water\n",
    "    def espresso_info(self):\n",
    "        super().coffee_info()\n",
    "        print('물:{}ml'.format(self.water))\n",
    "coffee=Espresso('콜롬비아',30)\n",
    "coffee.espresso_info()"
   ]
  }
 ],
 "metadata": {
  "interpreter": {
   "hash": "97ae724bfa85b9b34df7982b8bb8c7216f435b92902d749e4263f71162bea840"
  },
  "kernelspec": {
   "display_name": "Python 3.9.7 64-bit ('base': conda)",
   "language": "python",
   "name": "python3"
  },
  "language_info": {
   "codemirror_mode": {
    "name": "ipython",
    "version": 3
   },
   "file_extension": ".py",
   "mimetype": "text/x-python",
   "name": "python",
   "nbconvert_exporter": "python",
   "pygments_lexer": "ipython3",
   "version": "3.9.7"
  },
  "orig_nbformat": 4
 },
 "nbformat": 4,
 "nbformat_minor": 2
}
