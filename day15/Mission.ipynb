{
 "cells": [
  {
   "cell_type": "code",
   "execution_count": 1,
   "metadata": {},
   "outputs": [
    {
     "name": "stdout",
     "output_type": "stream",
     "text": [
      "james is born\n",
      "emily is born\n",
      "전체인구수:2명\n",
      "james is dead.\n",
      "전체인구수:1명\n"
     ]
    }
   ],
   "source": [
    "class Person:\n",
    "    population=0\n",
    "   \n",
    "    def __init__(self,name):\n",
    "        self.name=name\n",
    "        print('{} is born'.format(self.name))\n",
    "        Person.population+=1\n",
    "   \n",
    "    @classmethod\n",
    "    def get_population(cls):\n",
    "        return cls.population\n",
    "    \n",
    "    def __del__(self):\n",
    "        print('{} is dead.'.format(self.name))\n",
    "        Person.population-=1\n",
    "man=Person('james')\n",
    "woman=Person('emily')\n",
    "print('전체인구수:{}명'.format(Person.get_population()))\n",
    "del man\n",
    "print('전체인구수:{}명'.format(Person.get_population()))"
   ]
  },
  {
   "cell_type": "code",
   "execution_count": 2,
   "metadata": {},
   "outputs": [
    {
     "name": "stdout",
     "output_type": "stream",
     "text": [
      "떡볶이를 3000원에 판매하였습니다.\n",
      "김밥를 4000원에 판매하였습니다.\n",
      "튀김를 2500원에 판매하였습니다.\n",
      "매출:9500원\n"
     ]
    }
   ],
   "source": [
    "class Shop:\n",
    "    total=0\n",
    "    menu_list={'떡볶이':3000,'순대':3000,'튀김':500,'김밥':2000}\n",
    "    @classmethod\n",
    "    def sales(cls,menu,q):\n",
    "        cls.menu=menu\n",
    "        cls.q=q\n",
    "        print('{}를 {}원에 판매하였습니다.'.format(cls.menu,Shop.menu_list[cls.menu]*cls.q))\n",
    "        Shop.total+=Shop.menu_list[cls.menu]*cls.q\n",
    "Shop.sales('떡볶이',1)\n",
    "Shop.sales('김밥',2)\n",
    "Shop.sales('튀김',5)\n",
    "print('매출:{}원'.format(Shop.total))"
   ]
  },
  {
   "cell_type": "code",
   "execution_count": 12,
   "metadata": {},
   "outputs": [
    {
     "name": "stdout",
     "output_type": "stream",
     "text": [
      "현재 주유상태:50\n",
      "현재 충전상태:30\n"
     ]
    }
   ],
   "source": [
    "class Car:\n",
    "\n",
    "    max_oil=50\n",
    "\n",
    "    def __init__(self,oil):\n",
    "        self.oil=oil\n",
    "\n",
    "    def add_oil(self,oil):\n",
    "        if oil <=0:\n",
    "            return\n",
    "        self.oil+=oil\n",
    "        if self.oil>Car.max_oil:\n",
    "            self.oil=Car.max_oil\n",
    "\n",
    "    def car_info(self):\n",
    "        print('현재 주유상태:{}'.format(self.oil))\n",
    "\n",
    "class Hybrid(Car):\n",
    "    max_battery=30\n",
    "    def __init__(self, oil,battery):\n",
    "        super().__init__(oil)\n",
    "        self.battery=battery\n",
    "\n",
    "    def charge(self,battery):\n",
    "        if battery <=0:\n",
    "            return\n",
    "        self.battery+=battery\n",
    "        if self.battery>Hybrid.max_battery:\n",
    "            self.battery=Hybrid.max_battery\n",
    "\n",
    "    def hybrid_info(self):\n",
    "        super().car_info()\n",
    "        print('현재 충전상태:{}'.format(self.battery))\n",
    "\n",
    "car=Hybrid(0,0)\n",
    "car.add_oil(100)\n",
    "car.charge(50)\n",
    "car.hybrid_info()"
   ]
  }
 ],
 "metadata": {
  "interpreter": {
   "hash": "97ae724bfa85b9b34df7982b8bb8c7216f435b92902d749e4263f71162bea840"
  },
  "kernelspec": {
   "display_name": "Python 3.9.7 64-bit ('base': conda)",
   "language": "python",
   "name": "python3"
  },
  "language_info": {
   "codemirror_mode": {
    "name": "ipython",
    "version": 3
   },
   "file_extension": ".py",
   "mimetype": "text/x-python",
   "name": "python",
   "nbconvert_exporter": "python",
   "pygments_lexer": "ipython3",
   "version": "3.9.7"
  },
  "orig_nbformat": 4
 },
 "nbformat": 4,
 "nbformat_minor": 2
}
