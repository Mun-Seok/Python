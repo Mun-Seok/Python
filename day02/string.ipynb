{
 "cells": [
  {
   "cell_type": "code",
   "execution_count": 1,
   "metadata": {},
   "outputs": [
    {
     "name": "stdout",
     "output_type": "stream",
     "text": [
      "대한민국\n",
      "대한민국\n"
     ]
    }
   ],
   "source": [
    "print('대한민국')\n",
    "print(\"대한민국\")#'\"상관x"
   ]
  },
  {
   "cell_type": "code",
   "execution_count": 3,
   "metadata": {},
   "outputs": [
    {
     "name": "stdout",
     "output_type": "stream",
     "text": [
      "100\n",
      "True\n",
      "3.14\n"
     ]
    }
   ],
   "source": [
    "print(str(100))\n",
    "print(str(True))\n",
    "print(str(3.14))                                                                                                                                                                                                                                                                                              "
   ]
  },
  {
   "cell_type": "code",
   "execution_count": 4,
   "metadata": {},
   "outputs": [
    {
     "name": "stdout",
     "output_type": "stream",
     "text": [
      "h\n",
      "p\n",
      "y\n",
      "n\n",
      "t\n"
     ]
    }
   ],
   "source": [
    "s='python'#문자열 인덱싱\n",
    "print(s[3])#3-->0 -->1 -->5-->2\n",
    "print(s[0])#양수는 0부터 시작\n",
    "print(s[1])\n",
    "print(s[5])\n",
    "print(s[2])"
   ]
  },
  {
   "cell_type": "code",
   "execution_count": 6,
   "metadata": {},
   "outputs": [
    {
     "name": "stdout",
     "output_type": "stream",
     "text": [
      "h\n",
      "p\n",
      "y\n",
      "n\n",
      "t\n"
     ]
    }
   ],
   "source": [
    "s='python'#음수는 뒤에서 -1부터 시작\n",
    "print(s[-3])\n",
    "print(s[-6])\n",
    "print(s[-5])\n",
    "print(s[-1])\n",
    "print(s[-4])"
   ]
  },
  {
   "cell_type": "code",
   "execution_count": 8,
   "metadata": {},
   "outputs": [
    {
     "ename": "SyntaxError",
     "evalue": "invalid syntax (<ipython-input-8-5908a2bdd09e>, line 3)",
     "output_type": "error",
     "traceback": [
      "\u001b[1;36m  File \u001b[1;32m\"<ipython-input-8-5908a2bdd09e>\"\u001b[1;36m, line \u001b[1;32m3\u001b[0m\n\u001b[1;33m    print(s[])\u001b[0m\n\u001b[1;37m            ^\u001b[0m\n\u001b[1;31mSyntaxError\u001b[0m\u001b[1;31m:\u001b[0m invalid syntax\n"
     ]
    }
   ],
   "source": [
    "s[1:3]#2번째부터 4번째 문자사이 슬라이싱\n",
    "s[1:6:2]\n",
    "print(s[0:3])"
   ]
  }
 ],
 "metadata": {
  "interpreter": {
   "hash": "8fac594bfae6525c0c41b4041d2d72effa188cc8ead05f81b1fab2bb098927fb"
  },
  "kernelspec": {
   "display_name": "Python 3.8.8 64-bit ('base': conda)",
   "name": "python3"
  },
  "language_info": {
   "codemirror_mode": {
    "name": "ipython",
    "version": 3
   },
   "file_extension": ".py",
   "mimetype": "text/x-python",
   "name": "python",
   "nbconvert_exporter": "python",
   "pygments_lexer": "ipython3",
   "version": "3.8.8"
  },
  "orig_nbformat": 4
 },
 "nbformat": 4,
 "nbformat_minor": 2
}
