{
 "cells": [
  {
   "cell_type": "code",
   "execution_count": 19,
   "metadata": {},
   "outputs": [
    {
     "ename": "TypeError",
     "evalue": "unsupported operand type(s) for +: 'int' and 'str'",
     "output_type": "error",
     "traceback": [
      "\u001b[1;31m---------------------------------------------------------------------------\u001b[0m",
      "\u001b[1;31mTypeError\u001b[0m                                 Traceback (most recent call last)",
      "\u001b[1;32m<ipython-input-19-125b6be77f88>\u001b[0m in \u001b[0;36m<module>\u001b[1;34m\u001b[0m\n\u001b[0;32m     10\u001b[0m \u001b[1;31m# print('번',end='')\u001b[0m\u001b[1;33m\u001b[0m\u001b[1;33m\u001b[0m\u001b[1;33m\u001b[0m\u001b[0m\n\u001b[0;32m     11\u001b[0m \u001b[1;33m\u001b[0m\u001b[0m\n\u001b[1;32m---> 12\u001b[1;33m \u001b[0mprint\u001b[0m\u001b[1;33m(\u001b[0m\u001b[0mgrade\u001b[0m\u001b[1;33m+\u001b[0m\u001b[1;34m'학년'\u001b[0m\u001b[1;33m,\u001b[0m\u001b[0mclass1\u001b[0m\u001b[1;33m,\u001b[0m\u001b[1;34m'반'\u001b[0m\u001b[1;33m,\u001b[0m\u001b[0mnumber\u001b[0m\u001b[1;33m,\u001b[0m\u001b[1;34m'번'\u001b[0m\u001b[1;33m)\u001b[0m\u001b[1;33m\u001b[0m\u001b[1;33m\u001b[0m\u001b[0m\n\u001b[0m",
      "\u001b[1;31mTypeError\u001b[0m: unsupported operand type(s) for +: 'int' and 'str'"
     ]
    }
   ],
   "source": [
    "grade=3\n",
    "class1=10\n",
    "number=25\n",
    "\n",
    "# print(grade,end='')\n",
    "# print('학년',end='')\n",
    "# print(class1,end='')\n",
    "# print('반',end='')\n",
    "# print(number,end='')\n",
    "# print('번',end='')\n",
    "\n",
    "print(grade,'학년',class1,'반',number,'번')"
   ]
  },
  {
   "cell_type": "code",
   "execution_count": 4,
   "metadata": {},
   "outputs": [
    {
     "name": "stdout",
     "output_type": "stream",
     "text": [
      "서울2가1234 의 차량번호 4자리는  1234 입니다\n"
     ]
    }
   ],
   "source": [
    "car='서울2가1234'\n",
    "car2='10가 1234'\n",
    "car3='288가 1234'\n",
    "\n",
    "print(car, '의 차량번호 4자리는 ',car[-4:],'입니다')"
   ]
  },
  {
   "cell_type": "code",
   "execution_count": 5,
   "metadata": {},
   "outputs": [
    {
     "name": "stdout",
     "output_type": "stream",
     "text": [
      "maple 의 가운데 글자는  p 입니다\n"
     ]
    }
   ],
   "source": [
    "s='maple'\n",
    "print(s,'의 가운데 글자는 ',s[2],'입니다')"
   ]
  },
  {
   "cell_type": "code",
   "execution_count": 9,
   "metadata": {},
   "outputs": [
    {
     "name": "stdout",
     "output_type": "stream",
     "text": [
      "3번째 요소부터 7번째 요소: [30, 40, 50, 60, 70]\n",
      "3번째 요소부터 7번째 요소 중 2번째 요소: 40\n"
     ]
    }
   ],
   "source": [
    "li=[10,20,30,40,50,60,70,80,90,100]\n",
    "print('3번째 요소부터 7번째 요소:',li[2:7])\n",
    "a=li[2:7]\n",
    "print('3번째 요소부터 7번째 요소 중 2번째 요소:',a[1])\n"
   ]
  },
  {
   "cell_type": "code",
   "execution_count": 16,
   "metadata": {},
   "outputs": [
    {
     "name": "stdout",
     "output_type": "stream",
     "text": [
      "금요일: 탕수육\n",
      "토요일: 유산슬\n",
      "일요일: 팔보채\n"
     ]
    }
   ],
   "source": [
    "dic={'금요일':'탕수육','토요일':'유산슬', '일요일':'팔보채'}\n",
    "print('금요일:', dic['금요일'])\n",
    "print('토요일:', dic['토요일'])\n",
    "print('일요일:', dic['일요일'])"
   ]
  }
 ],
 "metadata": {
  "interpreter": {
   "hash": "8fac594bfae6525c0c41b4041d2d72effa188cc8ead05f81b1fab2bb098927fb"
  },
  "kernelspec": {
   "display_name": "Python 3.8.8 64-bit ('base': conda)",
   "name": "python3"
  },
  "language_info": {
   "codemirror_mode": {
    "name": "ipython",
    "version": 3
   },
   "file_extension": ".py",
   "mimetype": "text/x-python",
   "name": "python",
   "nbconvert_exporter": "python",
   "pygments_lexer": "ipython3",
   "version": "3.8.8"
  },
  "orig_nbformat": 4
 },
 "nbformat": 4,
 "nbformat_minor": 2
}
