{
 "cells": [
  {
   "cell_type": "code",
   "execution_count": null,
   "metadata": {},
   "outputs": [],
   "source": [
    "def vending_machine(money):\n",
    "    count=0\n",
    "    print('음료수={},잔돈={}'.format(count,money))\n",
    "    while(True):\n",
    "        if money<700:\n",
    "            break\n",
    "        else:\n",
    "            money-=700\n",
    "            count+=1\n",
    "            print('음료수={},잔돈={}'.format(count,money))\n",
    "vending_machine(3000)"
   ]
  },
  {
   "cell_type": "code",
   "execution_count": null,
   "metadata": {},
   "outputs": [],
   "source": [
    "def vending_machine(money):\n",
    "    drink=0\n",
    "    while money>0:\n",
    "        print('음료수={},잔돈={}'.format(drink,money))\n",
    "        money-=700\n",
    "        drink+=1\n",
    "vending_machine(3000)"
   ]
  },
  {
   "cell_type": "code",
   "execution_count": 26,
   "metadata": {},
   "outputs": [
    {
     "name": "stdout",
     "output_type": "stream",
     "text": [
      "평균은 85.0점입니다.\n"
     ]
    }
   ],
   "source": [
    "def get_average(marks):\n",
    "    sum=0\n",
    "    for i in marks:\n",
    "        sum+=marks[i]\n",
    "    average=sum/len(marks)\n",
    "    return average\n",
    "marks={'국어':90,'영어':80,'수학':85}\n",
    "average=get_average(marks)\n",
    "print('평균은 {}점입니다.'.format(average))"
   ]
  },
  {
   "cell_type": "code",
   "execution_count": 1,
   "metadata": {},
   "outputs": [
    {
     "name": "stdout",
     "output_type": "stream",
     "text": [
      "축의금 명단: {'영희': 5, '철수': 3, '이모': 10}\n",
      "전체 축의금: 18\n"
     ]
    }
   ],
   "source": [
    "total=0\n",
    "wedding={}\n",
    "def gift(dic,who,money):\n",
    "    dic[who]=money\n",
    "    global total\n",
    "    total+=money\n",
    "gift(wedding,'영희',5)\n",
    "gift(wedding,'철수',3)\n",
    "gift(wedding,'이모',10)\n",
    "print('축의금 명단: {}'.format(wedding))\n",
    "print('전체 축의금: {}'.format(total))"
   ]
  },
  {
   "cell_type": "code",
   "execution_count": 4,
   "metadata": {},
   "outputs": [
    {
     "name": "stdout",
     "output_type": "stream",
     "text": [
      "{'영희': 5, '철수': 3, '이모': 10}\n",
      "18\n"
     ]
    }
   ],
   "source": [
    "total=0\n",
    "wedding={}\n",
    "def gift2(dic,total,who,money):\n",
    "    dic[who]=money\n",
    "    total+=money\n",
    "    return dic, total\n",
    "wedding,total=gift2(wedding,total,'영희',5)\n",
    "wedding,total=gift2(wedding,total,'철수',3)\n",
    "wedding,total=gift2(wedding,total,'이모',10)\n",
    "print(wedding)\n",
    "print(total)"
   ]
  }
 ],
 "metadata": {
  "interpreter": {
   "hash": "97ae724bfa85b9b34df7982b8bb8c7216f435b92902d749e4263f71162bea840"
  },
  "kernelspec": {
   "display_name": "Python 3.9.7 64-bit ('base': conda)",
   "language": "python",
   "name": "python3"
  },
  "language_info": {
   "codemirror_mode": {
    "name": "ipython",
    "version": 3
   },
   "file_extension": ".py",
   "mimetype": "text/x-python",
   "name": "python",
   "nbconvert_exporter": "python",
   "pygments_lexer": "ipython3",
   "version": "3.9.7"
  },
  "orig_nbformat": 4
 },
 "nbformat": 4,
 "nbformat_minor": 2
}
