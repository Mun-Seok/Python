{
 "cells": [
  {
   "cell_type": "code",
   "execution_count": 1,
   "metadata": {},
   "outputs": [],
   "source": [
    "nation=['그리스','아테네','독일','베를린','러시아','모스크바','미국','워싱턴']\n",
    "with open('nation.txt','wt',encoding='UTF-8') as f:\n",
    "    f.write('생성된 nation.txt 파일의 내용은 다음과 같습니다.')\n",
    "    count=0\n",
    "    for i in range(3):\n",
    "        f.write('\\n{}-{}'.format(nation[count],nation[count+1]))\n",
    "        count+=1\n",
    "f.close()"
   ]
  },
  {
   "cell_type": "code",
   "execution_count": 8,
   "metadata": {},
   "outputs": [
    {
     "name": "stdout",
     "output_type": "stream",
     "text": [
      "['연락처.txt 파일은 다음과 같은 형식으로 저장되어 있습니다.\\n', '\"김나라\",\"목포시\",\"010-1234-1234\"\\n', '\"수나라\",\"울산시\",\"011-23423-234\"\\n', '\"김나라\",\"목포시시\",\"010-1234-1234\"\\n', '\"수우나라\",\"울산시시\",\"011-23423-234\"\\n', '\"김밥나라\",\"목포포시\",\"010-1234-1234\"\\n', '\"수박나라\",\"울울산시\",\"011-23423-234\"\\n', '\"김기나라\",\"목모포시\",\"010-1234-1234\"\\n', '\"수수나라\",\"우울산시\",\"011-23423-234\"']\n"
     ]
    }
   ],
   "source": [
    "file=open('연락처.txt','rt',encoding='UTF-8')\n",
    "str=file.readlines()\n",
    "print(str)\n",
    "for i,v in enumerate(str):\n",
    "    if v.count('011')>0:\n",
    "        new=str[i].replace('011','010')\n",
    "        str[i]=new\n",
    "file.close()\n",
    "file=open('연락처_n.txt','wt',encoding='UTF-8')\n",
    "for i in str:\n",
    "    file.write(i)\n",
    "file.close()"
   ]
  },
  {
   "cell_type": "code",
   "execution_count": 10,
   "metadata": {},
   "outputs": [
    {
     "name": "stdout",
     "output_type": "stream",
     "text": [
      "['연락처.txt 파일은 다음과 같은 형식으로 저장되어 있습니다.\\n', '\"김나라\",\"목포시\",\"010-1234-1234\"\\n', '\"수나라\",\"울산시\",\"011-23423-234\"\\n', '\"김나라\",\"목포시시\",\"010-1234-1234\"\\n', '\"수우나라\",\"울산시시\",\"011-23423-234\"\\n', '\"김밥나라\",\"목포포시\",\"010-1234-1234\"\\n', '\"수박나라\",\"울울산시\",\"011-23423-234\"\\n', '\"김기나라\",\"목모포시\",\"010-1234-1234\"\\n', '\"수수나라\",\"우울산시\",\"011-23423-234\"']\n"
     ]
    }
   ],
   "source": [
    "file=open('연락처.txt','rt',encoding='UTF-8')\n",
    "str=file.readlines()\n",
    "print(str)\n",
    "for i,v in enumerate(str):\n",
    "    if v.count('나라')>0:\n",
    "        new=str[i].replace('나라','씨')\n",
    "        str[i]=new\n",
    "    if v.count('시')>0:\n",
    "        new=str[i].replace('시','군')\n",
    "        str[i]=new\n",
    "file.close()\n",
    "file=open('연락처_n.txt','wt',encoding='UTF-8')\n",
    "for i in str:\n",
    "    file.write(i)\n",
    "file.close()"
   ]
  }
 ],
 "metadata": {
  "interpreter": {
   "hash": "97ae724bfa85b9b34df7982b8bb8c7216f435b92902d749e4263f71162bea840"
  },
  "kernelspec": {
   "display_name": "Python 3.9.7 64-bit ('base': conda)",
   "language": "python",
   "name": "python3"
  },
  "language_info": {
   "codemirror_mode": {
    "name": "ipython",
    "version": 3
   },
   "file_extension": ".py",
   "mimetype": "text/x-python",
   "name": "python",
   "nbconvert_exporter": "python",
   "pygments_lexer": "ipython3",
   "version": "3.9.7"
  },
  "orig_nbformat": 4
 },
 "nbformat": 4,
 "nbformat_minor": 2
}
