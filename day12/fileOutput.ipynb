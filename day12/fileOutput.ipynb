{
 "cells": [
  {
   "cell_type": "code",
   "execution_count": 2,
   "metadata": {},
   "outputs": [],
   "source": [
    "with open('test.txt','wt',encoding='UTF-8')as f:\n",
    "#encoding 없으면 한글 지원안해서 이상하게 나옴\n",
    "#연결매체\n",
    "    f.write('안녕하세요!\\n')\n",
    "    f.write('최문석입니다.')"
   ]
  },
  {
   "cell_type": "code",
   "execution_count": 3,
   "metadata": {},
   "outputs": [],
   "source": [
    "with open('test.txt','at',encoding='UTF-8')as f:\n",
    "    f.write('\\n내 취미는 게임이야')\n",
    "    f.write('\\n나는 게임을 많이 하고 싶어')"
   ]
  },
  {
   "cell_type": "code",
   "execution_count": 6,
   "metadata": {},
   "outputs": [],
   "source": [
    "import time\n",
    "\n",
    "with open(time.strftime('%Y-%m-&d')+'.txt','at',encoding='UTF-8')as f:\n",
    "    while True:\n",
    "        schedule=input('오늘의 스케줄을 입력하세요>>>')\n",
    "        if not schedule:\n",
    "            break\n",
    "        f.write(schedule+'\\n')\n",
    "    "
   ]
  },
  {
   "cell_type": "code",
   "execution_count": null,
   "metadata": {},
   "outputs": [],
   "source": []
  }
 ],
 "metadata": {
  "interpreter": {
   "hash": "97ae724bfa85b9b34df7982b8bb8c7216f435b92902d749e4263f71162bea840"
  },
  "kernelspec": {
   "display_name": "Python 3.9.7 64-bit ('base': conda)",
   "language": "python",
   "name": "python3"
  },
  "language_info": {
   "codemirror_mode": {
    "name": "ipython",
    "version": 3
   },
   "file_extension": ".py",
   "mimetype": "text/x-python",
   "name": "python",
   "nbconvert_exporter": "python",
   "pygments_lexer": "ipython3",
   "version": "3.9.7"
  },
  "orig_nbformat": 4
 },
 "nbformat": 4,
 "nbformat_minor": 2
}
