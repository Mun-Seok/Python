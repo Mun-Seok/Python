for item in ('거위','가위','바위','보'):
     print(item)
     
     
person={
    'name':'jay',
    'age': 22
}
for i in person:
    print(i,end=':')
    print(person[i])
person['name']
    
eng_dict={
    'sun의 뜻':'태양',
    'moon의 뜻':'달',
    'star의 뜻':'별',
    'space의 뜻':'우주',
}
for word in eng_dict:
    print('{}의 뜻은 {}'.format(word,eng_dict[word]))
