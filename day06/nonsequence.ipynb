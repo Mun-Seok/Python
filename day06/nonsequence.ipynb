{
 "cells": [
  {
   "cell_type": "code",
   "execution_count": 5,
   "metadata": {},
   "outputs": [
    {
     "name": "stdout",
     "output_type": "stream",
     "text": [
      "거위\n",
      "가위\n",
      "바위\n",
      "보\n",
      "가가\n"
     ]
    }
   ],
   "source": [
    "for item in ('거위','가위','바위','보'):\n",
    "     print(item)"
   ]
  },
  {
   "cell_type": "code",
   "execution_count": 10,
   "metadata": {},
   "outputs": [
    {
     "name": "stdout",
     "output_type": "stream",
     "text": [
      "name:jay\n",
      "age:22\n"
     ]
    }
   ],
   "source": [
    "person={\n",
    "    'name':'jay',\n",
    "    'age': 22\n",
    "}\n",
    "for i in person:\n",
    "    print(i,end=':')\n",
    "    print(person[i])"
   ]
  },
  {
   "cell_type": "code",
   "execution_count": 9,
   "metadata": {},
   "outputs": [
    {
     "data": {
      "text/plain": [
       "22"
      ]
     },
     "execution_count": 9,
     "metadata": {},
     "output_type": "execute_result"
    }
   ],
   "source": [
    "person['name']"
   ]
  },
  {
   "cell_type": "code",
   "execution_count": 13,
   "metadata": {},
   "outputs": [
    {
     "name": "stdout",
     "output_type": "stream",
     "text": [
      "sun의 뜻 : 태양\n",
      "moon의 뜻 : 달\n",
      "star의 뜻 : 별\n",
      "space의 뜻 : 우주\n"
     ]
    }
   ],
   "source": [
    "eng_dict={\n",
    "    'sun의 뜻':'태양',\n",
    "    'moon의 뜻':'달',\n",
    "    'star의 뜻':'별',\n",
    "    'space의 뜻':'우주',\n",
    "}\n",
    "for word in eng_dict:\n",
    "    print('{}의 뜻은 {}'.format(word,eng_dict[word]))"
   ]
  }
 ],
 "metadata": {
  "interpreter": {
   "hash": "97ae724bfa85b9b34df7982b8bb8c7216f435b92902d749e4263f71162bea840"
  },
  "kernelspec": {
   "display_name": "Python 3.9.7 64-bit ('base': conda)",
   "language": "python",
   "name": "python3"
  },
  "language_info": {
   "codemirror_mode": {
    "name": "ipython",
    "version": 3
   },
   "file_extension": ".py",
   "mimetype": "text/x-python",
   "name": "python",
   "nbconvert_exporter": "python",
   "pygments_lexer": "ipython3",
   "version": "3.9.7"
  },
  "orig_nbformat": 4
 },
 "nbformat": 4,
 "nbformat_minor": 2
}
