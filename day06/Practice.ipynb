{
 "cells": [
  {
   "cell_type": "code",
   "execution_count": 2,
   "metadata": {},
   "outputs": [
    {
     "name": "stdout",
     "output_type": "stream",
     "text": [
      "5\n",
      "4\n",
      "3\n",
      "2\n",
      "1\n"
     ]
    }
   ],
   "source": [
    "for i in range(5,0,-1):\n",
    "    print(i)"
   ]
  },
  {
   "cell_type": "code",
   "execution_count": 10,
   "metadata": {},
   "outputs": [
    {
     "name": "stdout",
     "output_type": "stream",
     "text": [
      "0\n",
      "1\n",
      "2\n",
      "3\n",
      "4\n",
      "5\n",
      "15\n"
     ]
    }
   ],
   "source": [
    "n=int(input('임의의 양수를 입력해주세요>>>'))\n",
    "sum=0\n",
    "for i in range(n+1):\n",
    "    sum+=i\n",
    "print(sum)"
   ]
  },
  {
   "cell_type": "code",
   "execution_count": 12,
   "metadata": {},
   "outputs": [
    {
     "name": "stdout",
     "output_type": "stream",
     "text": [
      "['사과', '배', '귤']\n"
     ]
    }
   ],
   "source": [
    "number=int(input('몇개의 과일을 보관할까요?>>>'))\n",
    "fruits=[]\n",
    "for i in range(number):\n",
    "    fruit=str(input('{}번째 과일을 입력하세요>>>'.format(i+1)))\n",
    "    fruits.append(fruit)\n",
    "print(fruits)"
   ]
  },
  {
   "cell_type": "code",
   "execution_count": 5,
   "metadata": {},
   "outputs": [
    {
     "name": "stdout",
     "output_type": "stream",
     "text": [
      "[100, 83, 100, 96, 86, 90, 59, 100, 76, 55]\n",
      "2\n"
     ]
    }
   ],
   "source": [
    "exam=[99,78,100,91,81,85,54,100,71,50]\n",
    "li=[]\n",
    "for i in exam:\n",
    "    # if i==100:\n",
    "    #     i=100\n",
    "    # else:\n",
    "    #     if i+5>100:\n",
    "    #         i=100\n",
    "    #     else:\n",
    "    #         i=i+5\n",
    "    # li.append(i)\n",
    "    li.append(min(100,i+5))\n",
    "print(li)\n",
    "#min(a,b) a와 b중에 작은 값 출력\n"
   ]
  },
  {
   "cell_type": "code",
   "execution_count": 59,
   "metadata": {},
   "outputs": [
    {
     "name": "stdout",
     "output_type": "stream",
     "text": [
      "1 2 짝 4 5 짝 7 8 짝 10\n",
      "11 12 짝 14 15 짝 17 18 짝 20\n",
      "21 22 짝 24 25 짝 27 28 짝 짝\n",
      "31 32 짝짝 34 35 짝 37 38 짝 40\n",
      "41 42 짝 44 45 짝 47 48 짝 50\n",
      "51 52 짝 54 55 짝 57 58 짝 짝\n",
      "61 62 짝 64 65 짝짝 67 68 짝 70\n",
      "71 72 짝 74 75 짝 77 78 짝 80\n",
      "81 82 짝 84 85 짝 87 88 짝 짝\n",
      "91 92 짝 94 95 짝 97 98 짝짝 "
     ]
    }
   ],
   "source": [
    "for i in range(1,100):\n",
    "    if i%10==0:\n",
    "        if i%3==0:\n",
    "            print('짝')\n",
    "        else:\n",
    "            print(i)\n",
    "    elif i==33:\n",
    "        print('짝짝',end=' ')\n",
    "    elif i==66:\n",
    "        print('짝짝',end=' ')\n",
    "    elif i==99:\n",
    "        print('짝짝',end=' ')\n",
    "    else:\n",
    "        if i%10==3:\n",
    "            print('짝',end=' ')\n",
    "        elif i%10==6:\n",
    "            print('짝',end=' ')\n",
    "        elif i%10==9:\n",
    "            print('짝',end=' ')\n",
    "        else:\n",
    "            print(i,end=' ')\n",
    "    "
   ]
  },
  {
   "cell_type": "code",
   "execution_count": 8,
   "metadata": {},
   "outputs": [
    {
     "name": "stdout",
     "output_type": "stream",
     "text": [
      "1\t2\tC\t4\t5\tC\t7\t8\tC\t10\t\n",
      "11\t12\tC\t14\t15\tC\t17\t18\tC\t20\t\n",
      "21\t22\tC\t24\t25\tC\t27\t28\tC\tC\t\n",
      "C\tC\tC.C\tC\tC\tC.C\tC\tC\tC.C\t40\t\n",
      "41\t42\tC\t44\t45\tC\t47\t48\tC\t50\t\n",
      "51\t52\tC\t54\t55\tC\t57\t58\tC\tC\t\n",
      "C\tC\tC.C\tC\tC\tC.C\tC\tC\tC.C\t70\t\n",
      "71\t72\tC\t74\t75\tC\t77\t78\tC\t80\t\n",
      "81\t82\tC\t84\t85\tC\t87\t88\tC\tC\t\n",
      "C\tC\tC.C\tC\tC\tC.C\tC\tC\tC.C\t"
     ]
    }
   ],
   "source": [
    "s=[3,6,9]\n",
    "for i in range(1,100):\n",
    "    if i<10:\n",
    "        if i%3==0:\n",
    "            print('C',end='\\t')\n",
    "        else:\n",
    "            print(i,end='\\t')\n",
    "    else:\n",
    "        j=str(i)\n",
    "        ss=0\n",
    "        if int(j[0]) in s:\n",
    "            ss=1+ss\n",
    "        if int(j[1]) in s:\n",
    "            ss=1+ss\n",
    "        if ss==0:\n",
    "            print(i,end='\\t')\n",
    "        elif ss==1:\n",
    "            print('C',end='\\t')\n",
    "        elif ss==2:\n",
    "            print('C.C',end='\\t')\n",
    "    if i%10==0:\n",
    "        print()\n"
   ]
  }
 ],
 "metadata": {
  "interpreter": {
   "hash": "97ae724bfa85b9b34df7982b8bb8c7216f435b92902d749e4263f71162bea840"
  },
  "kernelspec": {
   "display_name": "Python 3.9.7 64-bit ('base': conda)",
   "language": "python",
   "name": "python3"
  },
  "language_info": {
   "codemirror_mode": {
    "name": "ipython",
    "version": 3
   },
   "file_extension": ".py",
   "mimetype": "text/x-python",
   "name": "python",
   "nbconvert_exporter": "python",
   "pygments_lexer": "ipython3",
   "version": "3.9.7"
  },
  "orig_nbformat": 4
 },
 "nbformat": 4,
 "nbformat_minor": 2
}
