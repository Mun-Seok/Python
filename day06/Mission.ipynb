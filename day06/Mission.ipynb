{
 "cells": [
  {
   "cell_type": "code",
   "execution_count": 19,
   "metadata": {},
   "outputs": [
    {
     "name": "stdout",
     "output_type": "stream",
     "text": [
      "[1, 2, 3, 4, 5, 6, 7, 8, 9, 10]\n",
      "[2, 3, 4, 5, 6, 7, 8, 9, 10, 1]\n",
      "[3, 4, 5, 6, 7, 8, 9, 10, 1, 2]\n",
      "[4, 5, 6, 7, 8, 9, 10, 1, 2, 3]\n",
      "[5, 6, 7, 8, 9, 10, 1, 2, 3, 4]\n",
      "[6, 7, 8, 9, 10, 1, 2, 3, 4, 5]\n",
      "[7, 8, 9, 10, 1, 2, 3, 4, 5, 6]\n",
      "[8, 9, 10, 1, 2, 3, 4, 5, 6, 7]\n",
      "[9, 10, 1, 2, 3, 4, 5, 6, 7, 8]\n",
      "[10, 1, 2, 3, 4, 5, 6, 7, 8, 9]\n"
     ]
    }
   ],
   "source": [
    "li=[1,2,3,4,5,6,7,8,9,10]\n",
    "out=[0,0,0,0,0,0,0,0,0,0]\n",
    "for i in li:\n",
    "    for j in li:\n",
    "        out[j-1]=li[(j+i-2)%10]\n",
    "    print(out)\n",
    "    "
   ]
  }
 ],
 "metadata": {
  "interpreter": {
   "hash": "97ae724bfa85b9b34df7982b8bb8c7216f435b92902d749e4263f71162bea840"
  },
  "kernelspec": {
   "display_name": "Python 3.9.7 64-bit ('base': conda)",
   "language": "python",
   "name": "python3"
  },
  "language_info": {
   "codemirror_mode": {
    "name": "ipython",
    "version": 3
   },
   "file_extension": ".py",
   "mimetype": "text/x-python",
   "name": "python",
   "nbconvert_exporter": "python",
   "pygments_lexer": "ipython3",
   "version": "3.9.7"
  },
  "orig_nbformat": 4
 },
 "nbformat": 4,
 "nbformat_minor": 2
}
