{
 "cells": [
  {
   "cell_type": "code",
   "execution_count": 7,
   "metadata": {},
   "outputs": [
    {
     "name": "stdout",
     "output_type": "stream",
     "text": [
      "1번째 리스트의 값은 10,2번째 리스트의 값은 20,3번째 리스트의 값은 30,"
     ]
    }
   ],
   "source": [
    "#for 변수 in 반복가능객체:\n",
    "#           실행할 명령\n",
    "count=0\n",
    "for n in [10,20,30]:\n",
    "    count+=1\n",
    "    print('{}번째 리스트의 값은 {}'.format(count,n),end=',')\n",
    "    "
   ]
  },
  {
   "cell_type": "code",
   "execution_count": 8,
   "metadata": {},
   "outputs": [
    {
     "name": "stdout",
     "output_type": "stream",
     "text": [
      "h-e-l-l-o-"
     ]
    }
   ],
   "source": [
    "#for 문자 in 문자열:\n",
    "#        실행할 명령\n",
    "for n in 'hello':\n",
    "    print(n,end='-')"
   ]
  },
  {
   "cell_type": "code",
   "execution_count": 13,
   "metadata": {},
   "outputs": [
    {
     "name": "stdout",
     "output_type": "stream",
     "text": [
      "문자와 숫자를 포함해주세요.\n"
     ]
    }
   ],
   "source": [
    "pw=input('패스워드를 입력해주세요')\n",
    "pw_alpha=0\n",
    "pw_number=0\n",
    "for n in pw:\n",
    "    if n.isalpha()== True:\n",
    "        pw_alpha+=1\n",
    "    elif n.isnumeric()== True:\n",
    "        pw_number+=1\n",
    "if pw_alpha>0 and pw_number>0:\n",
    "    print('패스워드가 설정되었습니다.')\n",
    "else:\n",
    "    print('문자 또는 숫자를 포함해주세요.')"
   ]
  },
  {
   "cell_type": "code",
   "execution_count": 14,
   "metadata": {},
   "outputs": [
    {
     "name": "stdout",
     "output_type": "stream",
     "text": [
      "가위\n",
      "바위\n",
      "보\n"
     ]
    }
   ],
   "source": [
    "#for 리스트요소 in [리스트]:\n",
    "#                실행할 명령\n",
    "for list_item in ['가위','바위','보']:\n",
    "    print(list_item)"
   ]
  },
  {
   "cell_type": "code",
   "execution_count": 17,
   "metadata": {},
   "outputs": [
    {
     "data": {
      "text/plain": [
       "[6, 12]"
      ]
     },
     "execution_count": 17,
     "metadata": {},
     "output_type": "execute_result"
    }
   ],
   "source": [
    "#리스트=[표현식 for 변수 in 반복가능객체]\n",
    "[n*3 for n in [1,2,3,4,5] if n%2==0]"
   ]
  },
  {
   "cell_type": "code",
   "execution_count": 18,
   "metadata": {},
   "outputs": [
    {
     "name": "stdout",
     "output_type": "stream",
     "text": [
      "Spring\n",
      "Summer\n",
      "Autumn\n",
      "Winter\n"
     ]
    }
   ],
   "source": [
    "#for 튜플요소 in (튜플):\n",
    "#                실행할 명령\n",
    "four_seasons=('Spring','Summer','Autumn','Winter')\n",
    "for season in four_seasons:\n",
    "    print(season)"
   ]
  }
 ],
 "metadata": {
  "interpreter": {
   "hash": "97ae724bfa85b9b34df7982b8bb8c7216f435b92902d749e4263f71162bea840"
  },
  "kernelspec": {
   "display_name": "Python 3.9.7 64-bit ('base': conda)",
   "language": "python",
   "name": "python3"
  },
  "language_info": {
   "codemirror_mode": {
    "name": "ipython",
    "version": 3
   },
   "file_extension": ".py",
   "mimetype": "text/x-python",
   "name": "python",
   "nbconvert_exporter": "python",
   "pygments_lexer": "ipython3",
   "version": "3.9.7"
  },
  "orig_nbformat": 4
 },
 "nbformat": 4,
 "nbformat_minor": 2
}
