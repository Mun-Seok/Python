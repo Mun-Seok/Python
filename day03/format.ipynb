{
 "cells": [
  {
   "cell_type": "code",
   "execution_count": 3,
   "metadata": {},
   "outputs": [
    {
     "name": "stdout",
     "output_type": "stream",
     "text": [
      "My name is James. I'm 25 years old\n",
      "My name is James. I'm 25 years old\n",
      "My name is James. I'm 25 years old\n",
      "My name is James. I'm 25 years old\n",
      "My name is CMS. I'm 20 years old\n"
     ]
    }
   ],
   "source": [
    "print('My name is {}. I\\'m {} years old'.format('James',25))\n",
    "print('My name is {0}. I\\'m {1} years old'.format('James',25))\n",
    "print('My name is {1}. I\\'m {0} years old'.format(25,'James'))\n",
    "print('My name is {name}. I\\'m {age} years old'.format(name='James',age=25))\n",
    "name2,age2='CMS',20\n",
    "print('My name is {0}. I\\'m {1} years old'.format(name2,age2))\n"
   ]
  },
  {
   "cell_type": "code",
   "execution_count": 6,
   "metadata": {},
   "outputs": [
    {
     "name": "stdout",
     "output_type": "stream",
     "text": [
      "우편번호:06236\n",
      "주소:서울특별시 강남구\n",
      "테헤란로 146\n",
      "연락처:02-538-0021\n"
     ]
    }
   ],
   "source": [
    "zipcode='06236'\n",
    "print('우편번호:{}'.format(zipcode))\n",
    "\n",
    "address='''서울특별시 강남구\n",
    "테헤란로 146'''\n",
    "\n",
    "print('주소:{addr}'.format(addr=address))\n",
    "\n",
    "tel1,tel2,tel3='02','538','0021'\n",
    "print('연락처:{0}-{1}-{2}'.format(tel1,tel2,tel3))"
   ]
  },
  {
   "cell_type": "code",
   "execution_count": 7,
   "metadata": {},
   "outputs": [
    {
     "name": "stdout",
     "output_type": "stream",
     "text": [
      "you make me happy\n"
     ]
    }
   ],
   "source": [
    "who='you'\n",
    "how='happy'\n",
    "print(f'{who} make me {how}')"
   ]
  },
  {
   "cell_type": "code",
   "execution_count": null,
   "metadata": {},
   "outputs": [],
   "source": [
    "age=25\n",
    "print(f'내년엔 {age+1}살이 됩니다.')"
   ]
  }
 ],
 "metadata": {
  "interpreter": {
   "hash": "8fac594bfae6525c0c41b4041d2d72effa188cc8ead05f81b1fab2bb098927fb"
  },
  "kernelspec": {
   "display_name": "Python 3.8.8 64-bit ('base': conda)",
   "language": "python",
   "name": "python3"
  },
  "language_info": {
   "codemirror_mode": {
    "name": "ipython",
    "version": 3
   },
   "file_extension": ".py",
   "mimetype": "text/x-python",
   "name": "python",
   "nbconvert_exporter": "python",
   "pygments_lexer": "ipython3",
   "version": "3.8.8"
  },
  "orig_nbformat": 4
 },
 "nbformat": 4,
 "nbformat_minor": 2
}
