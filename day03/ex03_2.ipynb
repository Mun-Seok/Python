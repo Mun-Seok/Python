{
 "cells": [
  {
   "cell_type": "code",
   "execution_count": 2,
   "metadata": {},
   "outputs": [
    {
     "name": "stdout",
     "output_type": "stream",
     "text": [
      "재미있는 파이썬\n",
      "Python-Java-C\n",
      "\n",
      "영화 타이타닉\n",
      "평점:5점\n"
     ]
    }
   ],
   "source": [
    "print('재미있는','파이썬')\n",
    "print('Python','Java','C',sep='-')#값 뒤에 -으로\n",
    "\n",
    "print()\n",
    "\n",
    "print('영화 타이타닉')\n",
    "print('평점', end=':') #출력후 :출력 기본으로 end='\\n'이 저장되어있음\n",
    "print('5점')\n",
    "\n",
    "fos=open('sample.py',mode='wt') #print(\"Hello world\")가 작성된 sample.py파일 생성\n",
    "print('print(\"Hello World\")',file=fos)\n",
    "fos.close()\n"
   ]
  }
 ],
 "metadata": {
  "interpreter": {
   "hash": "8fac594bfae6525c0c41b4041d2d72effa188cc8ead05f81b1fab2bb098927fb"
  },
  "kernelspec": {
   "display_name": "Python 3.8.8 64-bit ('base': conda)",
   "language": "python",
   "name": "python3"
  },
  "language_info": {
   "codemirror_mode": {
    "name": "ipython",
    "version": 3
   },
   "file_extension": ".py",
   "mimetype": "text/x-python",
   "name": "python",
   "nbconvert_exporter": "python",
   "pygments_lexer": "ipython3",
   "version": "3.8.8"
  },
  "orig_nbformat": 4
 },
 "nbformat": 4,
 "nbformat_minor": 2
}
