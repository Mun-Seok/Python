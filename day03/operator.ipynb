{
 "cells": [
  {
   "cell_type": "code",
   "execution_count": 5,
   "metadata": {},
   "outputs": [
    {
     "name": "stdout",
     "output_type": "stream",
     "text": [
      "내 계산 결과는 20입니다.\n",
      "내 계산 결과는 20입니다.\n",
      "24\n",
      "14\n",
      "파이 값은 3.140000입니다\n",
      "Python\n",
      "py3.140000\n"
     ]
    }
   ],
   "source": [
    "result=20\n",
    "print('내 계산 결과는 %d입니다.' %result) #10진수\n",
    "\n",
    "print('내 계산 결과는 %d입니다.' %20) #10진수\n",
    "print('%o' %20) #8진수\n",
    "print('%x' %20) #16진수\n",
    "print('파이 값은 %f입니다' %3.14) #실수\n",
    "print('%s' %'Python') #문자열\n",
    "print('%s%f' %('py',3.14))\n",
    "\n",
    "\n"
   ]
  },
  {
   "cell_type": "code",
   "execution_count": 7,
   "metadata": {},
   "outputs": [
    {
     "name": "stdout",
     "output_type": "stream",
     "text": [
      "10\n",
      "3.14\n"
     ]
    }
   ],
   "source": [
    "print('%s' %10)\n",
    "print('%s' %3.14)"
   ]
  },
  {
   "cell_type": "code",
   "execution_count": 12,
   "metadata": {},
   "outputs": [
    {
     "name": "stdout",
     "output_type": "stream",
     "text": [
      "    1\n",
      "   22\n",
      "  333\n",
      " 4444\n",
      "55555\n",
      "1    \n",
      "22   \n",
      "333  \n",
      "4444 \n",
      "55555\n",
      " 3.66\n",
      "  3.7\n",
      "3.66 \n",
      "3.7  \n",
      "3.66\n",
      "3.7\n"
     ]
    }
   ],
   "source": [
    "print('%5d' %1)#5자리로 오른쪽으로 맞춤\n",
    "print('%5d' %22)\n",
    "print('%5d' %333)\n",
    "print('%5d' %4444)\n",
    "print('%5d' %55555)\n",
    "\n",
    "print('%-5d' %1)#5자리로 왼쪽으로 맞춤\n",
    "print('%-5d' %22)\n",
    "print('%-5d' %333)\n",
    "print('%-5d' %4444)\n",
    "print('%-5d' %55555)\n",
    "\n",
    "print('%5.2f' %3.66) #전체 5자리 소수이하 2자리 오른쪽 맞춤\n",
    "print('%5.1f' %3.66) #전체 5자리 소수이하 1자리 오른쪽 맞춤\n",
    "\n",
    "print('%-5.2f' %3.66) #전체 5자리 소수이하 2자리 왼쪽 맞춤\n",
    "print('%-5.1f' %3.66)#전체 5자리 소수이하 1자리 왼쪽 맞춤\n",
    "\n",
    "print('%.2f' %3.66) #소수이하 2자리\n",
    "print('%.1f' %3.66) #소수이하 1자리\n"
   ]
  },
  {
   "cell_type": "code",
   "execution_count": 17,
   "metadata": {},
   "outputs": [
    {
     "ename": "SyntaxError",
     "evalue": "unexpected EOF while parsing (<ipython-input-17-cbfe91f27e87>, line 11)",
     "output_type": "error",
     "traceback": [
      "\u001b[1;36m  File \u001b[1;32m\"<ipython-input-17-cbfe91f27e87>\"\u001b[1;36m, line \u001b[1;32m11\u001b[0m\n\u001b[1;33m    print('내 생일은 %d년 %d월 %d일입니다.' % (year,month,day)\u001b[0m\n\u001b[1;37m                                                    ^\u001b[0m\n\u001b[1;31mSyntaxError\u001b[0m\u001b[1;31m:\u001b[0m unexpected EOF while parsing\n"
     ]
    }
   ],
   "source": [
    "name='Kai'\n",
    "print('내 이름은 %s입니다' %name)\n",
    "\n",
    "height=120.5\n",
    "print('내 키는 %fcm입니다'%height)\n",
    "\n",
    "weight=23.55\n",
    "print('내 몸무게는 %.1fkg입나다'%weight)\n",
    "\n",
    "year,month,day=2014,8,25\n",
    "print('내 생일은 %d년 %d월 %d일입니다.' % (year,month,day))\n"
   ]
  }
 ],
 "metadata": {
  "interpreter": {
   "hash": "8fac594bfae6525c0c41b4041d2d72effa188cc8ead05f81b1fab2bb098927fb"
  },
  "kernelspec": {
   "display_name": "Python 3.8.8 64-bit ('base': conda)",
   "language": "python",
   "name": "python3"
  },
  "language_info": {
   "codemirror_mode": {
    "name": "ipython",
    "version": 3
   },
   "file_extension": ".py",
   "mimetype": "text/x-python",
   "name": "python",
   "nbconvert_exporter": "python",
   "pygments_lexer": "ipython3",
   "version": "3.8.8"
  },
  "orig_nbformat": 4
 },
 "nbformat": 4,
 "nbformat_minor": 2
}
