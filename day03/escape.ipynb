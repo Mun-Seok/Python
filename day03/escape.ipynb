{
 "cells": [
  {
   "cell_type": "code",
   "execution_count": 2,
   "metadata": {},
   "outputs": [
    {
     "name": "stdout",
     "output_type": "stream",
     "text": [
      "I say '\\I like apple'\n"
     ]
    }
   ],
   "source": [
    "print('I say \\'\\\\I like apple\\'')# \\'->작은 따옴표 쓰기 \\\" -> 큰따옴표쓰기"
   ]
  },
  {
   "cell_type": "code",
   "execution_count": 5,
   "metadata": {},
   "outputs": [
    {
     "name": "stdout",
     "output_type": "stream",
     "text": [
      "Hello 'World'\n",
      "Hello \"World\"\n",
      "*\n",
      "**\n",
      "***\n",
      "이름\t연락처\n",
      "제시카\t02-123-4567\n",
      "마틴\t 010-8765-1234\n"
     ]
    }
   ],
   "source": [
    "print('Hello \\'World\\'')\n",
    "print('Hello \\\"World\"')\n",
    "print('*\\n**\\n***')\n",
    "print('이름\\t연락처')\n",
    "print('제시카\\t02-123-4567')\n",
    "print('마틴\\t 010-8765-1234')"
   ]
  }
 ],
 "metadata": {
  "interpreter": {
   "hash": "8fac594bfae6525c0c41b4041d2d72effa188cc8ead05f81b1fab2bb098927fb"
  },
  "kernelspec": {
   "display_name": "Python 3.8.8 64-bit ('base': conda)",
   "language": "python",
   "name": "python3"
  },
  "language_info": {
   "codemirror_mode": {
    "name": "ipython",
    "version": 3
   },
   "file_extension": ".py",
   "mimetype": "text/x-python",
   "name": "python",
   "nbconvert_exporter": "python",
   "pygments_lexer": "ipython3",
   "version": "3.8.8"
  },
  "orig_nbformat": 4
 },
 "nbformat": 4,
 "nbformat_minor": 2
}
