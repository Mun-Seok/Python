{
 "cells": [
  {
   "cell_type": "code",
   "execution_count": 8,
   "metadata": {},
   "outputs": [
    {
     "name": "stdout",
     "output_type": "stream",
     "text": [
      "1\n",
      "2\n",
      "3\n",
      "4\n",
      "5\n",
      "6\n",
      "7\n",
      "8\n",
      "9\n",
      "10\n"
     ]
    }
   ],
   "source": [
    "a=0\n",
    "while a<10:\n",
    "    a+=1\n",
    "    print(a)"
   ]
  },
  {
   "cell_type": "code",
   "execution_count": 19,
   "metadata": {},
   "outputs": [
    {
     "name": "stdout",
     "output_type": "stream",
     "text": [
      "10\n",
      "9\n",
      "8\n",
      "7\n",
      "6\n",
      "5\n",
      "4\n",
      "3\n",
      "2\n",
      "1\n",
      "총합은 55\n"
     ]
    }
   ],
   "source": [
    "i=10\n",
    "sum=0\n",
    "while i>0:\n",
    "    print(i)\n",
    "    sum=sum+i\n",
    "    i-=1\n",
    "print('총합은 {}'.format(sum))"
   ]
  },
  {
   "cell_type": "code",
   "execution_count": 34,
   "metadata": {},
   "outputs": [
    {
     "name": "stdout",
     "output_type": "stream",
     "text": [
      "리스트: [1]\n",
      "총합:1\n",
      "리스트: [1, 1]\n",
      "총합:2\n",
      "리스트: [1, 1, 1]\n",
      "총합:3\n",
      "리스트: [1, 1, 1, 3]\n",
      "총합:6\n",
      "리스트: [1, 1, 1, 3, 2]\n",
      "총합:8\n"
     ]
    }
   ],
   "source": [
    "my_list=[]\n",
    "stop=0\n",
    "count=0\n",
    "while stop!=4:\n",
    "    n=int(input('정수를 입력해주세요'))\n",
    "    my_list.append(n)\n",
    "    sum+=n\n",
    "    print('리스트: {}'.format(my_list))\n",
    "    print('총합:{}'.format(sum))\n",
    "    stop=int(input('프로그램을 종료하시겠습니까? 4:종료'))"
   ]
  }
 ],
 "metadata": {
  "interpreter": {
   "hash": "97ae724bfa85b9b34df7982b8bb8c7216f435b92902d749e4263f71162bea840"
  },
  "kernelspec": {
   "display_name": "Python 3.9.7 64-bit ('base': conda)",
   "language": "python",
   "name": "python3"
  },
  "language_info": {
   "codemirror_mode": {
    "name": "ipython",
    "version": 3
   },
   "file_extension": ".py",
   "mimetype": "text/x-python",
   "name": "python",
   "nbconvert_exporter": "python",
   "pygments_lexer": "ipython3",
   "version": "3.9.7"
  },
  "orig_nbformat": 4
 },
 "nbformat": 4,
 "nbformat_minor": 2
}
