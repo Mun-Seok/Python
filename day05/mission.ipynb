import random

print('포켓몬을 선택해주세요')
mypokemon=int(input('1. 피카츄(라이츄) 2.꼬부기(어니부기) 3.파이리(리자드)'))
revolution=random.randint(1,5)

if mypokemon==1:
    print('피카츄가 선택되었습니다. 피카츄 백만볼트!')
    print('20프로의 확률로 피카츄가 라이츄로 진화합니다.')
    if revolution==1:
        print('피카츄가 라이츄로 진화에 성공했습니다.')
    else :
        print('피카츄가 진화에 실패하였습니다.')
        
elif mypokemon==2:
    print('꼬부기 선택되었습니다. 꼬부기 물대포!')
    print('20프로의 확률로 꼬부기가 어니부기로 진화합니다.')
    if revolution==1:
        print('꼬부기가 어니부기로 진화에 성공했습니다.')
    else :
        print('꼬부기가 진화에 실패하였습니다.')

elif mypokemon==3:
    print('파이리 선택되었습니다. 파이리 파이어볼!')
    print('20프로의 확률로 파이리가 리자드로 진화합니다.')
    if revolution==1:
        print('파이리가 리자드로 진화에 성공했습니다.')
    else :
        print('파이리가 진화에 실패하였습니다.')
else:
    print('번호를 잘못 선택하셨습니다.')
