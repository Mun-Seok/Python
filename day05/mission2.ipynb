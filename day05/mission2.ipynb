{
 "cells": [
  {
   "cell_type": "code",
   "execution_count": 14,
   "metadata": {},
   "outputs": [
    {
     "name": "stdout",
     "output_type": "stream",
     "text": [
      "1번째 Hello\n",
      "2번째 Hello\n",
      "3번째 Hello\n",
      "4번째 Hello\n"
     ]
    }
   ],
   "source": [
    "count=0\n",
    "i=int(input('정수를 입력하세요>>>'))\n",
    "while count<i:\n",
    "    count+=1\n",
    "    print('{}번째 Hello'.format(count))"
   ]
  },
  {
   "cell_type": "code",
   "execution_count": 16,
   "metadata": {},
   "outputs": [
    {
     "name": "stdout",
     "output_type": "stream",
     "text": [
      "7\n",
      "14\n",
      "21\n",
      "28\n",
      "35\n",
      "42\n",
      "49\n",
      "56\n",
      "63\n",
      "70\n",
      "77\n",
      "84\n",
      "91\n",
      "98\n"
     ]
    }
   ],
   "source": [
    "i=1\n",
    "while i<100:\n",
    "    i+=1\n",
    "    j=i%7\n",
    "    if j==0:\n",
    "        print(i)"
   ]
  },
  {
   "cell_type": "code",
   "execution_count": 22,
   "metadata": {},
   "outputs": [
    {
     "name": "stdout",
     "output_type": "stream",
     "text": [
      "커피 1잔, 잔돈 1200원\n",
      "커피 2잔, 잔돈 900원\n",
      "커피 3잔, 잔돈 600원\n",
      "커피 4잔, 잔돈 300원\n",
      "커피 5잔, 잔돈 0원\n"
     ]
    }
   ],
   "source": [
    "money=int(input('자판기에 얼마를 넣을까요?>>>'))\n",
    "coffee=0\n",
    "while money>=300:\n",
    "    coffee+=1\n",
    "    money-=300\n",
    "    print('커피 {}잔, 잔돈 {}원'.format(coffee,money))"
   ]
  },
  {
   "cell_type": "code",
   "execution_count": 28,
   "metadata": {},
   "outputs": [
    {
     "name": "stdout",
     "output_type": "stream",
     "text": [
      "모두 입력되었습니다.\n",
      "입력된 값은 {2, 3, 4, 5, 8, 9}입니다\n"
     ]
    }
   ],
   "source": [
    "a=set()\n",
    "while len(a)<6:\n",
    "    a.add(int(input('0부터 9사이 정수를 입력해주세요>>>')))\n",
    "print('모두 입력되었습니다.')\n",
    "print('입력된 값은 {}입니다'.format(a))"
   ]
  },
  {
   "cell_type": "code",
   "execution_count": 29,
   "metadata": {},
   "outputs": [
    {
     "name": "stdout",
     "output_type": "stream",
     "text": [
      "1\t2\t3\t4\t5\t6\t7\t8\t9\t10\n",
      "11\t12\t13\t14\t15\t16\t17\t18\t19\t20\n",
      "21\t22\t23\t24\t25\t26\t27\t28\t29\t30\n",
      "31\t32\t33\t34\t35\t36\t37\t38\t39\t40\n",
      "41\t42\t43\t44\t45\t46\t47\t48\t49\t50\n",
      "51\t52\t53\t54\t55\t56\t57\t58\t59\t60\n",
      "61\t62\t63\t64\t65\t66\t67\t68\t69\t70\n",
      "71\t72\t73\t74\t75\t76\t77\t78\t79\t80\n",
      "81\t82\t83\t84\t85\t86\t87\t88\t89\t90\n",
      "91\t92\t93\t94\t95\t96\t97\t98\t99\t100\n"
     ]
    }
   ],
   "source": [
    "i=0\n",
    "while i<100:\n",
    "    i+=1\n",
    "    j=i%10\n",
    "    if j==0:\n",
    "        print(i)\n",
    "    else:\n",
    "        print(i,end='\\t')"
   ]
  },
  {
   "cell_type": "code",
   "execution_count": 34,
   "metadata": {},
   "outputs": [
    {
     "name": "stdout",
     "output_type": "stream",
     "text": [
      "2X1=2\t2X2=4\t2X3=6\t2X4=8\t2X5=10\t2X6=12\t2X7=14\t2X8=16\t2X9=18\t\n",
      "3X1=3\t3X2=6\t3X3=9\t3X4=12\t3X5=15\t3X6=18\t3X7=21\t3X8=24\t3X9=27\t\n",
      "4X1=4\t4X2=8\t4X3=12\t4X4=16\t4X5=20\t4X6=24\t4X7=28\t4X8=32\t4X9=36\t\n",
      "5X1=5\t5X2=10\t5X3=15\t5X4=20\t5X5=25\t5X6=30\t5X7=35\t5X8=40\t5X9=45\t\n",
      "6X1=6\t6X2=12\t6X3=18\t6X4=24\t6X5=30\t6X6=36\t6X7=42\t6X8=48\t6X9=54\t\n",
      "7X1=7\t7X2=14\t7X3=21\t7X4=28\t7X5=35\t7X6=42\t7X7=49\t7X8=56\t7X9=63\t\n",
      "8X1=8\t8X2=16\t8X3=24\t8X4=32\t8X5=40\t8X6=48\t8X7=56\t8X8=64\t8X9=72\t\n",
      "9X1=9\t9X2=18\t9X3=27\t9X4=36\t9X5=45\t9X6=54\t9X7=63\t9X8=72\t9X9=81\t\n"
     ]
    }
   ],
   "source": [
    "i=1\n",
    "while i<9:\n",
    "    count=0\n",
    "    i+=1\n",
    "    while count<9:\n",
    "        count+=1\n",
    "        print('{}X{}={}'.format(i,count,i*count),end='\\t')\n",
    "    print()"
   ]
  }
 ],
 "metadata": {
  "interpreter": {
   "hash": "97ae724bfa85b9b34df7982b8bb8c7216f435b92902d749e4263f71162bea840"
  },
  "kernelspec": {
   "display_name": "Python 3.9.7 64-bit ('base': conda)",
   "language": "python",
   "name": "python3"
  },
  "language_info": {
   "codemirror_mode": {
    "name": "ipython",
    "version": 3
   },
   "file_extension": ".py",
   "mimetype": "text/x-python",
   "name": "python",
   "nbconvert_exporter": "python",
   "pygments_lexer": "ipython3",
   "version": "3.9.7"
  },
  "orig_nbformat": 4
 },
 "nbformat": 4,
 "nbformat_minor": 2
}
