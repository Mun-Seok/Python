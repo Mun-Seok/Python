{
 "cells": [
  {
   "cell_type": "code",
   "execution_count": 3,
   "metadata": {},
   "outputs": [
    {
     "name": "stdout",
     "output_type": "stream",
     "text": [
      "1번째 Hello\n",
      "2번째 Hello\n",
      "3번째 Hello\n",
      "4번째 Hello\n",
      "5번째 Hello\n",
      "6번째 Hello\n"
     ]
    }
   ],
   "source": [
    "i=int(input('정수를 입력해주세요>>>'))\n",
    "count=0\n",
    "while count<i:\n",
    "    count+=1\n",
    "    print('{}번째 Hello'.format(count))"
   ]
  },
  {
   "cell_type": "code",
   "execution_count": 15,
   "metadata": {},
   "outputs": [
    {
     "name": "stdout",
     "output_type": "stream",
     "text": [
      "7\n",
      "14\n",
      "21\n",
      "28\n",
      "35\n",
      "42\n",
      "49\n",
      "56\n",
      "63\n",
      "70\n",
      "77\n",
      "84\n",
      "91\n",
      "98\n"
     ]
    }
   ],
   "source": [
    "a=0\n",
    "while a<100:\n",
    "    a+=1\n",
    "    b=a%7\n",
    "    if b==0:\n",
    "       print(a)"
   ]
  },
  {
   "cell_type": "code",
   "execution_count": 20,
   "metadata": {},
   "outputs": [
    {
     "name": "stdout",
     "output_type": "stream",
     "text": [
      "커피1잔, 잔돈 1100원\n",
      "커피2잔, 잔돈 800원\n",
      "커피3잔, 잔돈 500원\n",
      "커피4잔, 잔돈 200원\n"
     ]
    }
   ],
   "source": [
    "money=int(input('자판기에 얼마를 넣을까요?>>>'))\n",
    "coffee=0\n",
    "while money>=300:\n",
    "    coffee+=1\n",
    "    money-=300\n",
    "    print('커피{}잔, 잔돈 {}원'.format(coffee,money))"
   ]
  },
  {
   "cell_type": "code",
   "execution_count": 31,
   "metadata": {},
   "outputs": [
    {
     "name": "stdout",
     "output_type": "stream",
     "text": [
      "{1, 2, 3, 4, 5}\n"
     ]
    }
   ],
   "source": [
    "s=set()\n",
    "l=0\n",
    "while l<5:\n",
    "    s.add(int(input('0부터 9사이의 정수를 입력하세요>>>')))\n",
    "    l=len(list(s))\n",
    "print(s)"
   ]
  },
  {
   "cell_type": "code",
   "execution_count": 32,
   "metadata": {},
   "outputs": [
    {
     "name": "stdout",
     "output_type": "stream",
     "text": [
      "1\t2\t3\t4\t5\t6\t7\t8\t9\t10\n",
      "11\t12\t13\t14\t15\t16\t17\t18\t19\t20\n",
      "21\t22\t23\t24\t25\t26\t27\t28\t29\t30\n",
      "31\t32\t33\t34\t35\t36\t37\t38\t39\t40\n",
      "41\t42\t43\t44\t45\t46\t47\t48\t49\t50\n",
      "51\t52\t53\t54\t55\t56\t57\t58\t59\t60\n",
      "61\t62\t63\t64\t65\t66\t67\t68\t69\t70\n",
      "71\t72\t73\t74\t75\t76\t77\t78\t79\t80\n",
      "81\t82\t83\t84\t85\t86\t87\t88\t89\t90\n",
      "91\t92\t93\t94\t95\t96\t97\t98\t99\t100\n"
     ]
    }
   ],
   "source": [
    "count1=0\n",
    "while count1<100:\n",
    "    count1+=1\n",
    "    if count1%10==0:\n",
    "        print(count1,end='\\n')\n",
    "    else:\n",
    "        print(count1,end='\\t')"
   ]
  },
  {
   "cell_type": "code",
   "execution_count": 24,
   "metadata": {},
   "outputs": [
    {
     "name": "stdout",
     "output_type": "stream",
     "text": [
      "2X1=2\t\n",
      "2X2=4\t\n",
      "2X3=6\t\n",
      "2X4=8\t\n",
      "2X5=10\t\n",
      "2X6=12\t\n",
      "2X7=14\t\n",
      "2X8=16\t\n",
      "2X9=18\t\n",
      "3X1=3\t\n",
      "3X2=6\t\n",
      "3X3=9\t\n",
      "3X4=12\t\n",
      "3X5=15\t\n",
      "3X6=18\t\n",
      "3X7=21\t\n",
      "3X8=24\t\n",
      "3X9=27\t\n",
      "4X1=4\t\n",
      "4X2=8\t\n",
      "4X3=12\t\n",
      "4X4=16\t\n",
      "4X5=20\t\n",
      "4X6=24\t\n",
      "4X7=28\t\n",
      "4X8=32\t\n",
      "4X9=36\t\n",
      "5X1=5\t\n",
      "5X2=10\t\n",
      "5X3=15\t\n",
      "5X4=20\t\n",
      "5X5=25\t\n",
      "5X6=30\t\n",
      "5X7=35\t\n",
      "5X8=40\t\n",
      "5X9=45\t\n",
      "6X1=6\t\n",
      "6X2=12\t\n",
      "6X3=18\t\n",
      "6X4=24\t\n",
      "6X5=30\t\n",
      "6X6=36\t\n",
      "6X7=42\t\n",
      "6X8=48\t\n",
      "6X9=54\t\n",
      "7X1=7\t\n",
      "7X2=14\t\n",
      "7X3=21\t\n",
      "7X4=28\t\n",
      "7X5=35\t\n",
      "7X6=42\t\n",
      "7X7=49\t\n",
      "7X8=56\t\n",
      "7X9=63\t\n",
      "8X1=8\t\n",
      "8X2=16\t\n",
      "8X3=24\t\n",
      "8X4=32\t\n",
      "8X5=40\t\n",
      "8X6=48\t\n",
      "8X7=56\t\n",
      "8X8=64\t\n",
      "8X9=72\t\n",
      "9X1=9\t\n",
      "9X2=18\t\n",
      "9X3=27\t\n",
      "9X4=36\t\n",
      "9X5=45\t\n",
      "9X6=54\t\n",
      "9X7=63\t\n",
      "9X8=72\t\n",
      "9X9=81\t\n"
     ]
    }
   ],
   "source": [
    "dan=2\n",
    "while dan<=9:\n",
    "    n=1\n",
    "    while n<=9:\n",
    "        print('{}X{}={}\\t'.format(dan,n,dan*n))\n",
    "        n+=1\n",
    "    dan+=1"
   ]
  }
 ],
 "metadata": {
  "interpreter": {
   "hash": "97ae724bfa85b9b34df7982b8bb8c7216f435b92902d749e4263f71162bea840"
  },
  "kernelspec": {
   "display_name": "Python 3.9.7 64-bit ('base': conda)",
   "language": "python",
   "name": "python3"
  },
  "language_info": {
   "codemirror_mode": {
    "name": "ipython",
    "version": 3
   },
   "file_extension": ".py",
   "mimetype": "text/x-python",
   "name": "python",
   "nbconvert_exporter": "python",
   "pygments_lexer": "ipython3",
   "version": "3.9.7"
  },
  "orig_nbformat": 4
 },
 "nbformat": 4,
 "nbformat_minor": 2
}
