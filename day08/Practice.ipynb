{
 "cells": [
  {
   "cell_type": "code",
   "execution_count": 4,
   "metadata": {},
   "outputs": [
    {
     "name": "stdout",
     "output_type": "stream",
     "text": [
      "무지개의 1번째 색은 red입니다.\n",
      "무지개의 2번째 색은 orange입니다.\n",
      "무지개의 3번째 색은 yellow입니다.\n",
      "무지개의 4번째 색은 green입니다.\n",
      "무지개의 5번째 색은 blue입니다.\n",
      "무지개의 6번째 색은 navy입니다.\n",
      "무지개의 7번째 색은 purple입니다.\n"
     ]
    }
   ],
   "source": [
    "rainbow=['red','orange','yellow','green','blue','navy','purple']\n",
    "for result1,result2 in enumerate(rainbow):\n",
    "    print('무지개의 {}번째 색은 {}입니다.'.format(result1+1,result2))"
   ]
  },
  {
   "cell_type": "code",
   "execution_count": 9,
   "metadata": {},
   "outputs": [
    {
     "name": "stdout",
     "output_type": "stream",
     "text": [
      "점수를 입력하세요.더이상 입력할 점수가 없으면 아무거나 입력하세요\n",
      "평균=62.0, 최대=90, 최소=30\n"
     ]
    }
   ],
   "source": [
    "scores=[]\n",
    "print('점수를 입력하세요.더이상 입력할 점수가 없으면 아무거나 입력하세요')\n",
    "while True:\n",
    "    score=int(input('점수 입력'))\n",
    "    if score<0:\n",
    "        break\n",
    "    else:\n",
    "        scores.append(score)\n",
    "print('평균={}, 최대={}, 최소={}'.format(sum(scores)/len(scores),max(scores),min(scores)))\n"
   ]
  }
 ],
 "metadata": {
  "interpreter": {
   "hash": "97ae724bfa85b9b34df7982b8bb8c7216f435b92902d749e4263f71162bea840"
  },
  "kernelspec": {
   "display_name": "Python 3.9.7 64-bit ('base': conda)",
   "language": "python",
   "name": "python3"
  },
  "language_info": {
   "codemirror_mode": {
    "name": "ipython",
    "version": 3
   },
   "file_extension": ".py",
   "mimetype": "text/x-python",
   "name": "python",
   "nbconvert_exporter": "python",
   "pygments_lexer": "ipython3",
   "version": "3.9.7"
  },
  "orig_nbformat": 4
 },
 "nbformat": 4,
 "nbformat_minor": 2
}
