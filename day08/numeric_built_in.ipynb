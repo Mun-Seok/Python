{
 "cells": [
  {
   "cell_type": "code",
   "execution_count": 1,
   "metadata": {},
   "outputs": [
    {
     "name": "stdout",
     "output_type": "stream",
     "text": [
      "1000\n",
      "1000\n"
     ]
    }
   ],
   "source": [
    "# abs() 절대값\n",
    "print(abs(1000))\n",
    "print(abs(-1000))"
   ]
  },
  {
   "cell_type": "code",
   "execution_count": 2,
   "metadata": {},
   "outputs": [
    {
     "name": "stdout",
     "output_type": "stream",
     "text": [
      "(3, 1)\n",
      "<class 'tuple'>\n"
     ]
    }
   ],
   "source": [
    "#divmod(입력값,나눌값)-->튜플\n",
    "print(divmod(10,3))\n",
    "print(type(divmod(10,3)))"
   ]
  },
  {
   "cell_type": "code",
   "execution_count": 3,
   "metadata": {},
   "outputs": [
    {
     "name": "stdout",
     "output_type": "stream",
     "text": [
      "3.0\n",
      "3.0\n",
      "3\n",
      "3\n"
     ]
    }
   ],
   "source": [
    "print(float(3))\n",
    "print(float('3'))\n",
    "\n",
    "print(int(3.14))\n",
    "print(int('3'))"
   ]
  },
  {
   "cell_type": "code",
   "execution_count": 2,
   "metadata": {},
   "outputs": [
    {
     "name": "stdout",
     "output_type": "stream",
     "text": [
      "3\n",
      "8\n",
      "3\n",
      "5\n"
     ]
    }
   ],
   "source": [
    "# max(값1,값2,값3)-->가장 큰값 반환\n",
    "# max(list or tuple)-->가장 큰값 반환\n",
    "# min(값1,값2,값3)-->가장 작은값 반환\n",
    "# min(list or tuple)-->가장 작은값 반환\n",
    "print(max(1,3,2))#3\n",
    "a=[5,6,7,8]\n",
    "print(max(a))\n",
    "print(max(1,3,2))#3\n",
    "print(min(a))"
   ]
  },
  {
   "cell_type": "code",
   "execution_count": 5,
   "metadata": {},
   "outputs": [
    {
     "name": "stdout",
     "output_type": "stream",
     "text": [
      "100\n",
      "64\n",
      "0.01\n",
      "0.00411522633744856\n"
     ]
    }
   ],
   "source": [
    "#pow(a,b)->a**b (a^b)a의 거듭제곱\n",
    "print(pow(10,2))\n",
    "print(pow(4,3))\n",
    "print(pow(10,-2))\n",
    "print(pow(3,-5))"
   ]
  },
  {
   "cell_type": "code",
   "execution_count": 7,
   "metadata": {},
   "outputs": [
    {
     "name": "stdout",
     "output_type": "stream",
     "text": [
      "1\n",
      "2\n",
      "1.3\n",
      "1.923\n"
     ]
    }
   ],
   "source": [
    "#round()-->반올림\n",
    "print(round(1.4))\n",
    "print(round(1.9))\n",
    "print(round(1.34,1))\n",
    "print(round(1.9234,3))"
   ]
  },
  {
   "cell_type": "code",
   "execution_count": 32,
   "metadata": {},
   "outputs": [
    {
     "name": "stdout",
     "output_type": "stream",
     "text": [
      "hello\n",
      "2550\n",
      "2500\n",
      "2500\n"
     ]
    }
   ],
   "source": [
    "# sum()-->더해줌 list,tuple\n",
    "li=['h','e','l','l','o']\n",
    "j=''\n",
    "for i in li:\n",
    "    j+=i\n",
    "print(j)\n",
    "\n",
    "#1부터100까지 짝수의 합, 홀수의 합\n",
    "\n",
    "#1\n",
    "li2=[]\n",
    "li3=[]\n",
    "for i in range(1,101):\n",
    "    if i%2==0:\n",
    "        li2.append(i)\n",
    "    else:\n",
    "        li3.append(i)\n",
    "print(sum(li2))\n",
    "print(sum(li3))\n",
    "\n",
    "#2\n",
    "li4=list(range(1,101,2))\n",
    "print(sum(li4))\n",
    "# li=['h','e','l','l','o']\n",
    "# print(sum(li))"
   ]
  },
  {
   "cell_type": "code",
   "execution_count": 19,
   "metadata": {},
   "outputs": [
    {
     "name": "stdout",
     "output_type": "stream",
     "text": [
      "[104, 101, 108]\n",
      "313\n"
     ]
    }
   ],
   "source": [
    "li=[]\n",
    "for i in range(3):\n",
    "    i=ord(input('값을 입력해주세요'))\n",
    "    li.append(i)\n",
    "print(li)\n",
    "print(sum(li))"
   ]
  },
  {
   "cell_type": "code",
   "execution_count": 36,
   "metadata": {},
   "outputs": [
    {
     "name": "stdout",
     "output_type": "stream",
     "text": [
      "7\n"
     ]
    }
   ],
   "source": [
    "#list에서 max값 2개의 합\n",
    "li=[1,2,3,45]\n",
    "maxv1=max(li)\n",
    "maxi1=li.index(maxv1)\n",
    "li.pop(maxi1)\n",
    "maxv2=max(li)\n",
    "print(sum([maxv1+maxv2]))\n"
   ]
  },
  {
   "cell_type": "code",
   "execution_count": 39,
   "metadata": {},
   "outputs": [
    {
     "name": "stdout",
     "output_type": "stream",
     "text": [
      "빵을 5개 사고 2500원이 남았습니다.\n"
     ]
    }
   ],
   "source": [
    "money=20000\n",
    "price=3500\n",
    "result=divmod(money,price)\n",
    "print('빵을 {}개 사고 {}원이 남았습니다.'.format(result[0],result[1]))"
   ]
  }
 ],
 "metadata": {
  "interpreter": {
   "hash": "97ae724bfa85b9b34df7982b8bb8c7216f435b92902d749e4263f71162bea840"
  },
  "kernelspec": {
   "display_name": "Python 3.9.7 64-bit ('base': conda)",
   "language": "python",
   "name": "python3"
  },
  "language_info": {
   "codemirror_mode": {
    "name": "ipython",
    "version": 3
   },
   "file_extension": ".py",
   "mimetype": "text/x-python",
   "name": "python",
   "nbconvert_exporter": "python",
   "pygments_lexer": "ipython3",
   "version": "3.9.7"
  },
  "orig_nbformat": 4
 },
 "nbformat": 4,
 "nbformat_minor": 2
}
