{
 "cells": [
  {
   "cell_type": "code",
   "execution_count": 4,
   "metadata": {},
   "outputs": [
    {
     "name": "stdout",
     "output_type": "stream",
     "text": [
      "(0, 'a')\n",
      "(1, 'b')\n",
      "(2, 'c')\n",
      "a\n",
      "b\n",
      "c\n"
     ]
    }
   ],
   "source": [
    "# enumerate(반복가능객체)\n",
    "#  for item in enumerate(반복가능객체):\n",
    "#  item<--idx,값\n",
    "li=['a','b','c']\n",
    "for result in enumerate(li):\n",
    "    print(result)\n",
    "\n",
    "li2=['a','b','c']\n",
    "for result in li2:\n",
    "    print(result)\n",
    "\n",
    "li3=['a','b','c']\n",
    "for result1,result2 in enumerate(li3):\n",
    "    print(f'result1:{result1}, result2:{result2}')"
   ]
  },
  {
   "cell_type": "code",
   "execution_count": 17,
   "metadata": {},
   "outputs": [
    {
     "name": "stdout",
     "output_type": "stream",
     "text": [
      "(0, '가')\n",
      "(1, '나')\n",
      "(2, '다')\n",
      "가\n",
      "나\n",
      "다\n",
      "result1:0, result2:가\n",
      "result1:1, result2:나\n",
      "result1:2, result2:다\n"
     ]
    }
   ],
   "source": [
    "li=['가','나','다']\n",
    "for result in enumerate(li):\n",
    "    print(result)\n",
    "\n",
    "li2=['가','나','다']\n",
    "for result in li2:\n",
    "    print(result)\n",
    "\n",
    "li3=['가','나','다']\n",
    "for result1,result2 in enumerate(li3):\n",
    "    print(f'result1:{result1}, result2:{result2}')"
   ]
  },
  {
   "cell_type": "code",
   "execution_count": 22,
   "metadata": {},
   "outputs": [
    {
     "name": "stdout",
     "output_type": "stream",
     "text": [
      "3 6 9 12 15 18 21 24 27 30 33 36 39 42 45 48 51 54 57 60 63 66 69 72 75 78 81 84 87 90 93 96 99 102 105 108 111 114 117 120 123 126 129 132 135 138 141 144 147 150 153 156 159 162 165 168 171 174 177 180 183 186 189 192 195 198 \n",
      "10 8 6 4 2 0 -2 -4 -6 -8 "
     ]
    }
   ],
   "source": [
    "#range(stop)\n",
    "#range(start,stop)\n",
    "#range(start,stop,step)\n",
    "for i in range(3,200,3):\n",
    "    print(i,end=' ')\n",
    "print()\n",
    "for j in range(10,-10,-2):\n",
    "    print(j,end=' ')"
   ]
  },
  {
   "cell_type": "code",
   "execution_count": 23,
   "metadata": {},
   "outputs": [
    {
     "name": "stdout",
     "output_type": "stream",
     "text": [
      "4\n",
      "2\n",
      "10\n"
     ]
    }
   ],
   "source": [
    "li=['a','b','c','d']\n",
    "print(len(li))\n",
    "d={'a':'apple','b':'banana'}\n",
    "print(len(d))\n",
    "print(len(range(10)))"
   ]
  },
  {
   "cell_type": "code",
   "execution_count": 25,
   "metadata": {},
   "outputs": [
    {
     "name": "stdout",
     "output_type": "stream",
     "text": [
      "봄,여름,가을,겨울,"
     ]
    }
   ],
   "source": [
    "season=['봄','여름','가을','겨울']\n",
    "for idx in range(len(season)):\n",
    "    print(season[idx],end=',')"
   ]
  },
  {
   "cell_type": "code",
   "execution_count": 28,
   "metadata": {},
   "outputs": [
    {
     "name": "stdout",
     "output_type": "stream",
     "text": [
      "봄,여름,가을,겨울,"
     ]
    }
   ],
   "source": [
    "season=['봄','여름','가을','겨울']\n",
    "for idx in season:\n",
    "    print(idx,end=',')"
   ]
  },
  {
   "cell_type": "code",
   "execution_count": 30,
   "metadata": {},
   "outputs": [
    {
     "name": "stdout",
     "output_type": "stream",
     "text": [
      "[1, 2, 3, 4, 10, 45, 345]\n",
      "[345, 45, 10, 4, 3, 2, 1]\n",
      "[1, 2, 3, 4, 10, 45, 345]\n"
     ]
    }
   ],
   "source": [
    "li=[10,4,2,1,3,345,45]\n",
    "print(sorted(li))\n",
    "print(sorted(li,reverse=True))\n",
    "print(sorted(li,reverse=False))"
   ]
  },
  {
   "cell_type": "code",
   "execution_count": 32,
   "metadata": {},
   "outputs": [
    {
     "name": "stdout",
     "output_type": "stream",
     "text": [
      "(10, 'james')\n",
      "(4, 'jun')\n",
      "(2, 'tom')\n",
      "('james', 10)\n",
      "('jun', 4)\n",
      "('tom', 2)\n"
     ]
    }
   ],
   "source": [
    "#zip(list1,list2)-->묶임\n",
    "score=[10,4,2,1,3,345,45]\n",
    "name=['james','jun','tom']\n",
    "for result in zip(score,name):\n",
    "    print(result)\n",
    "for result in zip(name,score):\n",
    "    print(result)"
   ]
  },
  {
   "cell_type": "code",
   "execution_count": 33,
   "metadata": {},
   "outputs": [
    {
     "name": "stdout",
     "output_type": "stream",
     "text": [
      "1월= 31일\n",
      "2월= 28일\n",
      "3월= 31일\n",
      "4월= 30일\n",
      "5월= 31일\n",
      "6월= 30일\n",
      "7월= 31일\n",
      "8월= 31일\n",
      "9월= 30일\n",
      "10월= 31일\n",
      "11월= 30일\n",
      "12월= 31일\n"
     ]
    }
   ],
   "source": [
    "months=[31,28,31,30,31,30,31,31,30,31,30,31]\n",
    "for month,day in enumerate(months):\n",
    "    print('{}월= {}일'.format(month+1,day))"
   ]
  }
 ],
 "metadata": {
  "interpreter": {
   "hash": "97ae724bfa85b9b34df7982b8bb8c7216f435b92902d749e4263f71162bea840"
  },
  "kernelspec": {
   "display_name": "Python 3.9.7 64-bit ('base': conda)",
   "language": "python",
   "name": "python3"
  },
  "language_info": {
   "codemirror_mode": {
    "name": "ipython",
    "version": 3
   },
   "file_extension": ".py",
   "mimetype": "text/x-python",
   "name": "python",
   "nbconvert_exporter": "python",
   "pygments_lexer": "ipython3",
   "version": "3.9.7"
  },
  "orig_nbformat": 4
 },
 "nbformat": 4,
 "nbformat_minor": 2
}
