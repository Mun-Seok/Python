{
 "cells": [
  {
   "cell_type": "code",
   "execution_count": null,
   "metadata": {},
   "outputs": [],
   "source": [
    "!pip install bs4"
   ]
  },
  {
   "cell_type": "code",
   "execution_count": null,
   "metadata": {},
   "outputs": [],
   "source": [
    "import requests\n",
    "\n",
    "url='https://www.naver.com'\n",
    "response=requests.get(url)\n",
    "print('응답코드: {}'.format(response.status_code))\n",
    "f=open('test.txt','w',encoding='UTF=8')\n",
    "f.write(response.text)\n",
    "f.close()\n",
    "print(response.text)"
   ]
  },
  {
   "cell_type": "code",
   "execution_count": null,
   "metadata": {},
   "outputs": [],
   "source": [
    "import requests\n",
    "\n",
    "url='https://search.naver.com/search.naver'\n",
    "param={'query':'파이썬'}\n",
    "response=requests.get(url,params=param)\n",
    "print('응답코드: {}'.format(response.status_code))\n",
    "f=open('test2.txt','w',encoding='UTF=8')\n",
    "f.write(response.text)\n",
    "f.close()\n",
    "print(response.text)"
   ]
  },
  {
   "cell_type": "code",
   "execution_count": null,
   "metadata": {},
   "outputs": [],
   "source": [
    "import requests\n",
    "url='https://movie.naver.com/movie/bi/mi/basic.nhn'\n",
    "param={'code':161967}\n",
    "response=requests.get(url,params=param)\n",
    "f=open('test3.txt','w',encoding='UTF=8')\n",
    "f.write(response.text)\n",
    "f.close()\n",
    "print(response.text)"
   ]
  },
  {
   "cell_type": "code",
   "execution_count": 17,
   "metadata": {},
   "outputs": [
    {
     "name": "stdout",
     "output_type": "stream",
     "text": [
      "모든영화를 통틀어서 이렇게 많이 본 영화는 없을거다고 생각합니다\n",
      "크리스마스의 친구\n",
      "유치원때 처음본걸로 기억하는데..  또봐도 명작이다 추억의영화\n",
      "크리스마스  최고의  영화\n",
      "봐도봐도 질리지 않네\n"
     ]
    }
   ],
   "source": [
    "import requests\n",
    "from bs4 import BeautifulSoup\n",
    "\n",
    "url='https://movie.naver.com/movie/bi/mi/basic.nhn'\n",
    "param={'code':10016}\n",
    "response=requests.get(url,params=param)\n",
    "html=response.text\n",
    "soup=BeautifulSoup(html,'html.parser')\n",
    "\n",
    "review_list=soup.find_all('div',class_='score_reple')\n",
    "\n",
    "for review in review_list:\n",
    "    print(review.find('p').text.strip())"
   ]
  }
 ],
 "metadata": {
  "interpreter": {
   "hash": "97ae724bfa85b9b34df7982b8bb8c7216f435b92902d749e4263f71162bea840"
  },
  "kernelspec": {
   "display_name": "Python 3.9.7 64-bit ('base': conda)",
   "language": "python",
   "name": "python3"
  },
  "language_info": {
   "codemirror_mode": {
    "name": "ipython",
    "version": 3
   },
   "file_extension": ".py",
   "mimetype": "text/x-python",
   "name": "python",
   "nbconvert_exporter": "python",
   "pygments_lexer": "ipython3",
   "version": "3.9.7"
  },
  "orig_nbformat": 4
 },
 "nbformat": 4,
 "nbformat_minor": 2
}
