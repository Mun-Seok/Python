{
 "cells": [
  {
   "cell_type": "code",
   "execution_count": 6,
   "metadata": {},
   "outputs": [
    {
     "name": "stdout",
     "output_type": "stream",
     "text": [
      "변성현\n",
      "김정훈\n",
      "이규만\n",
      "리들리 스콧 (Ridley Scott)\n",
      "한효주\n",
      "카야 스코델라리오 (Kaya Scodelario)\n",
      "채수빈 (배수빈)\n",
      "매즈 미켈슨 (Mads Mikkelsen)\n",
      "레아 세이두 (Lea Seydoux)\n",
      "케네스 브래너 (Kenneth Branagh)\n",
      "톰 홀랜드 (Tom Holland)\n",
      "스티븐 스필버그 (Steven Spielberg)\n",
      "하마구치 류스케 (Hamaguchi Ryusuke)\n",
      "지안 (임유진)\n",
      "박소담\n",
      "설경구\n",
      "사이먼 킨버그 (Simon Kinberg)\n",
      "강하늘 (김하늘)\n",
      "크리스토퍼 놀란 (Christopher Nolan)\n",
      "폴 토마스 앤더슨 (Paul Thomas Anderson)\n",
      "젠데이아 콜먼 (Zendaya Maree Stoermer Coleman)\n",
      "루벤 플레셔 (Ruben Fleischer)\n",
      "이광수\n",
      "맷 리브스 (Matt Reeves)\n",
      "장이머우 (Zhang Yimou)\n",
      "박대민\n",
      "베네딕트 컴버배치 (Benedict Cumberbatch)\n",
      "제시카 차스테인 (Jessica Chastain)\n",
      "조진웅 (조원준)\n",
      "이시아\n",
      "기예르모 델 토로 (Guillermo Del Toro)\n",
      "젬마 찬 (Gemma Chan)\n",
      "최우식\n",
      "존 왓츠 (Jon Watts)\n",
      "스칼릿 조핸슨 (Scarlett Johansson)\n",
      "권상우 (Kwon Sang-Woo)\n",
      "로버트 패틴슨 (Robert Pattinson)\n",
      "장철수 (Jang Cheol soo)\n",
      "이선균\n",
      "드니 빌뇌브 (Denis Villeneuve)\n",
      "황지연\n",
      "자레드 레토 (Jared Leto)\n",
      "티모시 샬라메 (Timothee Chalamet)\n",
      "마동석 (Don Lee)\n",
      "레오나르도 디카프리오 (Leonardo Dicaprio)\n",
      "봉준호 (Joon-ho Bong)\n",
      "톰 크루즈 (Tom Cruise)\n",
      "롤랜드 에머리히 (Roland Emmerich)\n",
      "웨스 앤더슨 (Wes Anderson)\n",
      "아담 드라이버 (Adam Driver)\n"
     ]
    }
   ],
   "source": [
    "import requests\n",
    "from bs4 import BeautifulSoup\n",
    "\n",
    "url='https://movie.naver.com/movie/sdb/rank/rpeople.naver'\n",
    "response=requests.get(url)\n",
    "html=response.text\n",
    "soup=BeautifulSoup(html,'html.parser')\n",
    "\n",
    "movie_in=soup.find_all('td',class_='title')\n",
    "\n",
    "for movie in movie_in:\n",
    "    print(movie.find('a').text.strip())"
   ]
  },
  {
   "cell_type": "code",
   "execution_count": null,
   "metadata": {},
   "outputs": [],
   "source": [
    "import requests\n",
    "from bs4 import BeautifulSoup\n",
    "\n",
    "url='https://movie.naver.com/movie/sdb/rank/rmovie.naver'\n",
    "response=requests.get(url)\n",
    "html=response.text\n",
    "soup=BeautifulSoup(html,'html.parser')\n",
    "\n",
    "movie_in=soup.find_all('div',class_='tit3')\n",
    "\n",
    "for i,movie in enumerate(movie_in):\n",
    "    print('{}위:{}'.format(i+1,movie.find('a').text.strip()))"
   ]
  },
  {
   "cell_type": "code",
   "execution_count": 2,
   "metadata": {},
   "outputs": [
    {
     "name": "stdout",
     "output_type": "stream",
     "text": [
      "1위:장민호 드라마 최종회\n",
      "2위:그린 북\n",
      "3위:가버나움\n",
      "4위:밥정\n",
      "5위:디지몬 어드벤처 라스트 에볼루션 : 인연\n",
      "6위:베일리 어게인\n",
      "7위:원더\n",
      "8위:아일라\n",
      "9위:극장판 바이올렛 에버가든\n",
      "10위:당갈\n",
      "11위:먼 훗날 우리\n",
      "12위:포드 V 페라리\n",
      "13위:그대, 고맙소 : 김호중 생애 첫 팬미팅 무비\n",
      "14위:주전장\n",
      "15위:쇼생크 탈출\n",
      "16위:터미네이터 2:오리지널\n",
      "17위:씽2게더\n",
      "18위:덕구\n",
      "19위:나 홀로 집에\n",
      "20위:클래식\n",
      "21위:라이언 일병 구하기\n",
      "22위:월-E\n",
      "23위:보헤미안 랩소디\n",
      "24위:사운드 오브 뮤직\n",
      "25위:빽 투 더 퓨쳐\n",
      "26위:포레스트 검프\n",
      "27위:위대한 쇼맨\n",
      "28위:타이타닉\n",
      "29위:글래디에이터\n",
      "30위:인생은 아름다워\n",
      "31위:헬프\n",
      "32위:가나의 혼인잔치: 언약\n",
      "33위:매트릭스\n",
      "34위:살인의 추억\n",
      "35위:센과 치히로의 행방불명\n",
      "36위:토이 스토리 3\n",
      "37위:잭 스나이더의 저스티스 리그\n",
      "38위:캐스트 어웨이\n",
      "39위:집으로...\n",
      "40위:태극권\n",
      "41위:히든 피겨스\n",
      "42위:헌터 킬러\n",
      "43위:반지의 제왕: 왕의 귀환\n",
      "44위:죽은 시인의 사회\n",
      "45위:어벤져스: 엔드게임\n",
      "46위:쉰들러 리스트\n",
      "47위:안녕 베일리\n",
      "48위:레옹\n",
      "49위:알라딘\n",
      "50위:클레멘타인\n"
     ]
    }
   ],
   "source": [
    "import requests\n",
    "from bs4 import BeautifulSoup\n",
    "\n",
    "url='https://movie.naver.com/movie/sdb/rank/rmovie.naver?sel=pnt&date=20220203'\n",
    "response=requests.get(url)\n",
    "html=response.text\n",
    "soup=BeautifulSoup(html,'html.parser')\n",
    "\n",
    "movie_in=soup.find_all('div',class_='tit5')\n",
    "\n",
    "for i,movie in enumerate(movie_in):\n",
    "    print('{}위:{}'.format(i+1,movie.find('a').text.strip()))"
   ]
  },
  {
   "cell_type": "code",
   "execution_count": 28,
   "metadata": {},
   "outputs": [
    {
     "name": "stdout",
     "output_type": "stream",
     "text": [
      "['355', '언차티드', '수퍼모델', '모가디슈', '미싱타는 여자들', '나이트메어 앨리', '인어가 잠든 집', '창극 변강쇠 점 찍고 옹녀', '코다', '킬러의 보디가드 2: 킬러의 와이프', '이상존재', '삼진그룹 영어토익반', \"단'ㅅ 패밀리 남바완\"]\n"
     ]
    }
   ],
   "source": [
    "import requests\n",
    "from bs4 import BeautifulSoup\n",
    "\n",
    "url='https://movie.naver.com/movie/sdb/rank/rmovie.naver'\n",
    "response=requests.get(url)\n",
    "html=response.text\n",
    "soup=BeautifulSoup(html,'html.parser')\n",
    "\n",
    "review_list=soup.find_all('tr')\n",
    "up_title_list=[]\n",
    "for i in review_list:\n",
    "    if len(i.find_all('img',alt='up'))==0:\n",
    "        pass\n",
    "    else:\n",
    "        up_title_list.append(i.find('a').text)\n",
    "print(up_title_list)"
   ]
  },
  {
   "cell_type": "code",
   "execution_count": 26,
   "metadata": {},
   "outputs": [
    {
     "data": {
      "text/plain": [
       "[<img alt=\"up\" class=\"arrow\" height=\"10\" src=\"https://ssl.pstatic.net/imgmovie/2007/img/common/icon_up_1.gif\" width=\"7\"/>]"
      ]
     },
     "execution_count": 26,
     "metadata": {},
     "output_type": "execute_result"
    }
   ],
   "source": [
    "review_list[24].find_all('img',alt='up')"
   ]
  },
  {
   "cell_type": "code",
   "execution_count": 27,
   "metadata": {},
   "outputs": [
    {
     "data": {
      "text/plain": [
       "'모가디슈'"
      ]
     },
     "execution_count": 27,
     "metadata": {},
     "output_type": "execute_result"
    }
   ],
   "source": [
    "review_list[24].find('a').text"
   ]
  }
 ],
 "metadata": {
  "interpreter": {
   "hash": "97ae724bfa85b9b34df7982b8bb8c7216f435b92902d749e4263f71162bea840"
  },
  "kernelspec": {
   "display_name": "Python 3.9.7 64-bit ('base': conda)",
   "language": "python",
   "name": "python3"
  },
  "language_info": {
   "codemirror_mode": {
    "name": "ipython",
    "version": 3
   },
   "file_extension": ".py",
   "mimetype": "text/x-python",
   "name": "python",
   "nbconvert_exporter": "python",
   "pygments_lexer": "ipython3",
   "version": "3.9.7"
  },
  "orig_nbformat": 4
 },
 "nbformat": 4,
 "nbformat_minor": 2
}
