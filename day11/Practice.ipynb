{
 "cells": [
  {
   "cell_type": "code",
   "execution_count": 8,
   "metadata": {},
   "outputs": [
    {
     "name": "stdout",
     "output_type": "stream",
     "text": [
      "1번째 당첨번호는 22입니다.\n",
      "2번째 당첨번호는 21입니다.\n",
      "3번째 당첨번호는 17입니다.\n",
      "4번째 당첨번호는 38입니다.\n",
      "5번째 당첨번호는 27입니다.\n",
      "6번째 당첨번호는 31입니다.\n",
      "이번 당첨번호는 [17, 21, 22, 27, 31, 38]입니다.\n"
     ]
    }
   ],
   "source": [
    "import time as t\n",
    "import random as rd\n",
    "\n",
    "pot=[]\n",
    "for i in range(6):\n",
    "    i=rd.randint(1,46)\n",
    "    pot.append(i)\n",
    "jackpot=[]\n",
    "for i in range(6):\n",
    "    rd.shuffle(pot)\n",
    "    a=pot.pop()\n",
    "    jackpot.append(a)\n",
    "    print('{}번째 당첨번호는 {}입니다.'.format((i+1),a))\n",
    "    t.sleep(2)\n",
    "print('이번 당첨번호는 {}입니다.'.format(sorted(jackpot)))\n"
   ]
  },
  {
   "cell_type": "code",
   "execution_count": 10,
   "metadata": {},
   "outputs": [
    {
     "name": "stdout",
     "output_type": "stream",
     "text": [
      "1번째 당첨번호는 1입니다.\n",
      "2번째 당첨번호는 21입니다.\n",
      "3번째 당첨번호는 29입니다.\n",
      "4번째 당첨번호는 8입니다.\n",
      "5번째 당첨번호는 45입니다.\n",
      "6번째 당첨번호는 11입니다.\n",
      "이번 당첨번호는 [1, 8, 11, 21, 29, 45]입니다.\n"
     ]
    }
   ],
   "source": [
    "pot=list(range(1,46))\n",
    "win_list=[]\n",
    "for i in range(6):\n",
    "    rd.shuffle(pot)\n",
    "    num=pot.pop()\n",
    "    print('{}번째 당첨번호는 {}입니다.'.format(i+1,num))\n",
    "    win_list.append(num)\n",
    "    t.sleep(2)\n",
    "win_list.sort()\n",
    "print('이번 당첨번호는 {}입니다.'.format(win_list))"
   ]
  },
  {
   "cell_type": "code",
   "execution_count": 3,
   "metadata": {},
   "outputs": [
    {
     "ename": "AttributeError",
     "evalue": "module 'datetime' has no attribute 'now'",
     "output_type": "error",
     "traceback": [
      "\u001b[1;31m---------------------------------------------------------------------------\u001b[0m",
      "\u001b[1;31mAttributeError\u001b[0m                            Traceback (most recent call last)",
      "\u001b[1;32m~\\AppData\\Local\\Temp/ipykernel_18364/717019352.py\u001b[0m in \u001b[0;36m<module>\u001b[1;34m\u001b[0m\n\u001b[0;32m      4\u001b[0m \u001b[1;33m\u001b[0m\u001b[0m\n\u001b[0;32m      5\u001b[0m \u001b[0manswer\u001b[0m\u001b[1;33m=\u001b[0m\u001b[0mrd\u001b[0m\u001b[1;33m.\u001b[0m\u001b[0mrandint\u001b[0m\u001b[1;33m(\u001b[0m\u001b[1;36m1\u001b[0m\u001b[1;33m,\u001b[0m\u001b[1;36m101\u001b[0m\u001b[1;33m)\u001b[0m\u001b[1;33m\u001b[0m\u001b[1;33m\u001b[0m\u001b[0m\n\u001b[1;32m----> 6\u001b[1;33m \u001b[0mstart\u001b[0m\u001b[1;33m=\u001b[0m\u001b[0mdatetime\u001b[0m\u001b[1;33m.\u001b[0m\u001b[0mnow\u001b[0m\u001b[1;33m(\u001b[0m\u001b[1;33m)\u001b[0m\u001b[1;33m\u001b[0m\u001b[1;33m\u001b[0m\u001b[0m\n\u001b[0m\u001b[0;32m      7\u001b[0m \u001b[1;32mwhile\u001b[0m \u001b[1;32mTrue\u001b[0m\u001b[1;33m:\u001b[0m\u001b[1;33m\u001b[0m\u001b[1;33m\u001b[0m\u001b[0m\n\u001b[0;32m      8\u001b[0m     \u001b[0mUser\u001b[0m\u001b[1;33m=\u001b[0m\u001b[0mint\u001b[0m\u001b[1;33m(\u001b[0m\u001b[0minput\u001b[0m\u001b[1;33m(\u001b[0m\u001b[1;34m'어떤 값 일까요?'\u001b[0m\u001b[1;33m)\u001b[0m\u001b[1;33m)\u001b[0m\u001b[1;33m\u001b[0m\u001b[1;33m\u001b[0m\u001b[0m\n",
      "\u001b[1;31mAttributeError\u001b[0m: module 'datetime' has no attribute 'now'"
     ]
    }
   ],
   "source": [
    "import math as m\n",
    "import datetime as dt\n",
    "import random as rd\n",
    "\n",
    "answer=rd.randint(1,101)\n",
    "start=dt.now\n",
    "while True:\n",
    "    User=int(input('어떤 값 일까요?'))\n",
    "    if User==answer:\n",
    "        print('정답입니다.')\n",
    "        end=dt.now()\n",
    "    elif User<answer:\n",
    "        print('Up')\n",
    "    else:\n",
    "        print('Down')\n",
    "    a=end-start\n",
    "    a=a.total_seconds()\n",
    "    print('{}만에 성공했습니다.'.format(a))"
   ]
  }
 ],
 "metadata": {
  "interpreter": {
   "hash": "97ae724bfa85b9b34df7982b8bb8c7216f435b92902d749e4263f71162bea840"
  },
  "kernelspec": {
   "display_name": "Python 3.9.7 64-bit ('base': conda)",
   "language": "python",
   "name": "python3"
  },
  "language_info": {
   "codemirror_mode": {
    "name": "ipython",
    "version": 3
   },
   "file_extension": ".py",
   "mimetype": "text/x-python",
   "name": "python",
   "nbconvert_exporter": "python",
   "pygments_lexer": "ipython3",
   "version": "3.9.7"
  },
  "orig_nbformat": 4
 },
 "nbformat": 4,
 "nbformat_minor": 2
}
