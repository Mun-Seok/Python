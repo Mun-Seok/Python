{
 "cells": [
  {
   "cell_type": "code",
   "execution_count": 12,
   "metadata": {},
   "outputs": [
    {
     "data": {
      "text/plain": [
       "1642073750.6616533"
      ]
     },
     "execution_count": 12,
     "metadata": {},
     "output_type": "execute_result"
    }
   ],
   "source": [
    "import time as t\n",
    "t.time()"
   ]
  },
  {
   "cell_type": "code",
   "execution_count": 13,
   "metadata": {},
   "outputs": [
    {
     "data": {
      "text/plain": [
       "'Thu Jan 13 20:36:08 2022'"
      ]
     },
     "execution_count": 13,
     "metadata": {},
     "output_type": "execute_result"
    }
   ],
   "source": [
    "t.ctime(t.time())"
   ]
  },
  {
   "cell_type": "code",
   "execution_count": 14,
   "metadata": {},
   "outputs": [
    {
     "data": {
      "text/plain": [
       "'2022-01-13-Thu- 20:38:20'"
      ]
     },
     "execution_count": 14,
     "metadata": {},
     "output_type": "execute_result"
    }
   ],
   "source": [
    "t.strftime('%Y-%m-%d-%a- %H:%M:%S')"
   ]
  },
  {
   "cell_type": "code",
   "execution_count": 15,
   "metadata": {},
   "outputs": [
    {
     "name": "stdout",
     "output_type": "stream",
     "text": [
      "1\n",
      "2\n",
      "3\n",
      "4\n",
      "5\n"
     ]
    }
   ],
   "source": [
    "for i in range(5):\n",
    "    print(i+1)\n",
    "    t.sleep(1)"
   ]
  },
  {
   "cell_type": "code",
   "execution_count": 17,
   "metadata": {},
   "outputs": [
    {
     "name": "stdout",
     "output_type": "stream",
     "text": [
      "2022-01-13 20:39:50.960872\n"
     ]
    }
   ],
   "source": [
    "import datetime as dt\n",
    "present=dt.datetime.now()\n",
    "print(present)"
   ]
  },
  {
   "cell_type": "code",
   "execution_count": 19,
   "metadata": {},
   "outputs": [
    {
     "name": "stdout",
     "output_type": "stream",
     "text": [
      "1997-11-30\n"
     ]
    }
   ],
   "source": [
    "birthday=dt.date(1997,11,30)\n",
    "print(birthday)"
   ]
  },
  {
   "cell_type": "code",
   "execution_count": 21,
   "metadata": {},
   "outputs": [
    {
     "name": "stdout",
     "output_type": "stream",
     "text": [
      "05:20:30\n"
     ]
    }
   ],
   "source": [
    "wake=dt.time(5,20,30)\n",
    "print(wake)"
   ]
  },
  {
   "cell_type": "code",
   "execution_count": 22,
   "metadata": {},
   "outputs": [
    {
     "name": "stdout",
     "output_type": "stream",
     "text": [
      "2022\n",
      "1\n",
      "13\n",
      "20\n"
     ]
    }
   ],
   "source": [
    "td=dt.datetime.now()\n",
    "print(td.year)\n",
    "print(td.month)\n",
    "print(td.day)\n",
    "print(td.hour)"
   ]
  },
  {
   "cell_type": "code",
   "execution_count": 24,
   "metadata": {},
   "outputs": [
    {
     "name": "stdout",
     "output_type": "stream",
     "text": [
      "2022-01-12 20:42:21.562702\n",
      "2022-01-14 20:42:21.562702\n",
      "2022-01-13 20:44:01.562702\n"
     ]
    }
   ],
   "source": [
    "yesterday=td-dt.timedelta(days=1)\n",
    "tommorrow=td+dt.timedelta(days=1)\n",
    "s100=td+dt.timedelta(seconds=100)\n",
    "print(yesterday)\n",
    "print(tommorrow)\n",
    "print(s100)"
   ]
  },
  {
   "cell_type": "code",
   "execution_count": 27,
   "metadata": {},
   "outputs": [
    {
     "data": {
      "text/plain": [
       "2764800.0"
      ]
     },
     "execution_count": 27,
     "metadata": {},
     "output_type": "execute_result"
    }
   ],
   "source": [
    "date1=dt.date(2020,1,1)\n",
    "date2=dt.date(2020,2,2)\n",
    "(date2-date1).total_seconds()"
   ]
  },
  {
   "cell_type": "code",
   "execution_count": 30,
   "metadata": {},
   "outputs": [
    {
     "name": "stdout",
     "output_type": "stream",
     "text": [
      "총 합은 50000005000000입니다.\n",
      "총 0.955399초가 소요되었습니다.\n"
     ]
    }
   ],
   "source": [
    "from datetime import *\n",
    "start=datetime.now()\n",
    "total=0\n",
    "for num in range(1,10000001):\n",
    "    total+=num\n",
    "end=datetime.now()\n",
    "elapse=end-start\n",
    "elapse=elapse.total_seconds()\n",
    "\n",
    "print('총 합은 {}입니다.'.format(total))\n",
    "print('총 {}초가 소요되었습니다.'.format(elapse))"
   ]
  },
  {
   "cell_type": "code",
   "execution_count": 32,
   "metadata": {},
   "outputs": [
    {
     "data": {
      "text/plain": [
       "45"
      ]
     },
     "execution_count": 32,
     "metadata": {},
     "output_type": "execute_result"
    }
   ],
   "source": [
    "import numpy as np\n",
    "np.sum(list(range(10)))\n",
    "#파이썬 인터프리터언어라 계산 느림 이런 점 보완하기 위해 넘파이 사용"
   ]
  }
 ],
 "metadata": {
  "interpreter": {
   "hash": "97ae724bfa85b9b34df7982b8bb8c7216f435b92902d749e4263f71162bea840"
  },
  "kernelspec": {
   "display_name": "Python 3.9.7 64-bit ('base': conda)",
   "language": "python",
   "name": "python3"
  },
  "language_info": {
   "codemirror_mode": {
    "name": "ipython",
    "version": 3
   },
   "file_extension": ".py",
   "mimetype": "text/x-python",
   "name": "python",
   "nbconvert_exporter": "python",
   "pygments_lexer": "ipython3",
   "version": "3.9.7"
  },
  "orig_nbformat": 4
 },
 "nbformat": 4,
 "nbformat_minor": 2
}
