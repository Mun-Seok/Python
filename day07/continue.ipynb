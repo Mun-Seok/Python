{
 "cells": [
  {
   "cell_type": "code",
   "execution_count": 11,
   "metadata": {},
   "outputs": [
    {
     "name": "stdout",
     "output_type": "stream",
     "text": [
      "캐나다 추가되었습니다\n",
      "동일한 나라가 있습니다\n",
      "사우디 추가되었습니다\n",
      " 추가되었습니다\n",
      "한국 추가되었습니다\n",
      "['미국', '캐나다', '사우디', '', '한국']\n"
     ]
    }
   ],
   "source": [
    "count=0\n",
    "countries=['미국']\n",
    "while count<4:\n",
    "    country=input('나라를 입력해주세요')\n",
    "    if country in countries:\n",
    "        print('동일한 나라가 있습니다')\n",
    "        continue\n",
    "    else:\n",
    "        countries.append(country)\n",
    "        print('{} 추가되었습니다'.format(country))\n",
    "        count+=1\n",
    "print(countries)\n"
   ]
  },
  {
   "cell_type": "code",
   "execution_count": 12,
   "metadata": {},
   "outputs": [
    {
     "name": "stdout",
     "output_type": "stream",
     "text": [
      "입력된 5개 양수의 총 합은 1입니다\n",
      "입력된 5개 양수의 총 합은 3입니다\n",
      "입력된 5개 양수의 총 합은 6입니다\n",
      "0이하의 정수는 처리할 수 없습니다.\n",
      "입력된 5개 양수의 총 합은 7입니다\n",
      "입력된 5개 양수의 총 합은 11입니다\n"
     ]
    }
   ],
   "source": [
    "count=0\n",
    "total=0\n",
    "while count<5:\n",
    "    n=int(input('{}번째 정수를 입력하세요>>>'.format(count+1)))\n",
    "    if n<=0:\n",
    "        print('0이하의 정수는 처리할 수 없습니다.')\n",
    "        continue\n",
    "    total+=n\n",
    "    count+=1\n",
    "    print('입력된 5개 양수의 총 합은 {}입니다'.format(total))"
   ]
  }
 ],
 "metadata": {
  "interpreter": {
   "hash": "97ae724bfa85b9b34df7982b8bb8c7216f435b92902d749e4263f71162bea840"
  },
  "kernelspec": {
   "display_name": "Python 3.9.7 64-bit ('base': conda)",
   "language": "python",
   "name": "python3"
  },
  "language_info": {
   "codemirror_mode": {
    "name": "ipython",
    "version": 3
   },
   "file_extension": ".py",
   "mimetype": "text/x-python",
   "name": "python",
   "nbconvert_exporter": "python",
   "pygments_lexer": "ipython3",
   "version": "3.9.7"
  },
  "orig_nbformat": 4
 },
 "nbformat": 4,
 "nbformat_minor": 2
}
