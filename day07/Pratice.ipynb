{
 "cells": [
  {
   "cell_type": "code",
   "execution_count": 17,
   "metadata": {},
   "outputs": [
    {
     "name": "stdout",
     "output_type": "stream",
     "text": [
      "현재 10000원이 있습니다.\n",
      "현재 8000원이 있습니다.\n",
      "0이하의 금액은 사용하실 수 없습니다.\n",
      "현재 8000원이 있습니다.\n",
      "1000원이 부족합니다\n",
      "현재 8000원이 있습니다.\n",
      "현재 0원이 있습니다.\n",
      "현재 0원이 있습니다.\n"
     ]
    }
   ],
   "source": [
    "money=10000\n",
    "while True:\n",
    "    print('현재 {}원이 있습니다.'.format(money))\n",
    "    use=int(input('사용할 금액 입력'))\n",
    "    if use<0:\n",
    "        print('0이하의 금액은 사용하실 수 없습니다.')\n",
    "        continue\n",
    "    if money<use:\n",
    "        print('{}원이 부족합니다'.format(use-money))\n",
    "        continue\n",
    "    elif money==0:\n",
    "        money-=use\n",
    "        print('현재 {}원이 있습니다.'.format(money))\n",
    "        break\n",
    "    else:\n",
    "        money-=use"
   ]
  },
  {
   "cell_type": "code",
   "execution_count": 40,
   "metadata": {},
   "outputs": [
    {
     "name": "stdout",
     "output_type": "stream",
     "text": [
      "평점: ★★\n"
     ]
    }
   ],
   "source": [
    "while True:\n",
    "    score=int(input('이번 영화의 평점을 입력하세요>>>'))\n",
    "    if score not in range(1,5):\n",
    "        print('평점은 1~5사이만 입력할 수 있습니다')\n",
    "        continue\n",
    "    elif score in range(1,5):\n",
    "        star='★'\n",
    "        print('평점: {}'.format(star*score))\n",
    "        break"
   ]
  },
  {
   "cell_type": "code",
   "execution_count": 45,
   "metadata": {},
   "outputs": [
    {
     "name": "stdout",
     "output_type": "stream",
     "text": [
      "비밀번호를 맞췄습니다.\n"
     ]
    }
   ],
   "source": [
    "count=0\n",
    "while True:\n",
    "    pwd=str(input('비밀번호를 입력하세요>>>'))\n",
    "    if pwd=='qwerty':\n",
    "        print('비밀번호를 맞췄습니다.')\n",
    "        break\n",
    "    count+=1\n",
    "    if count>5:\n",
    "        print('비밀번호 입력 횟수를 초과했습니다.')\n",
    "        break\n",
    "    else:\n",
    "        print(pwd)"
   ]
  },
  {
   "cell_type": "code",
   "execution_count": 38,
   "metadata": {},
   "outputs": [
    {
     "name": "stdout",
     "output_type": "stream",
     "text": [
      "3X1=3\t\n",
      "3X2=6\t\n",
      "3X3=9\t\n",
      "\n",
      "5X1=5\t\n",
      "5X2=10\t\n",
      "5X3=15\t\n",
      "5X4=20\t\n",
      "5X5=25\t\n",
      "\n",
      "7X1=7\t\n",
      "7X2=14\t\n",
      "7X3=21\t\n",
      "7X4=28\t\n",
      "7X5=35\t\n",
      "7X6=42\t\n",
      "7X7=49\t\n",
      "\n",
      "9X1=9\t\n",
      "9X2=18\t\n",
      "9X3=27\t\n",
      "9X4=36\t\n",
      "9X5=45\t\n",
      "9X6=54\t\n",
      "9X7=63\t\n",
      "9X8=72\t\n",
      "9X9=81\t\n"
     ]
    }
   ],
   "source": [
    "dan=3\n",
    "while dan<=9:\n",
    "    n=1\n",
    "    while n<=dan:\n",
    "        if dan%2==1:\n",
    "            print('{}X{}={}\\t'.format(dan,n,dan*n))\n",
    "            n+=1\n",
    "        elif dan%2==0:\n",
    "            print('')\n",
    "            break\n",
    "    dan+=1\n"
   ]
  },
  {
   "cell_type": "code",
   "execution_count": 43,
   "metadata": {},
   "outputs": [
    {
     "name": "stdout",
     "output_type": "stream",
     "text": [
      "3X1=3\t\n",
      "3X2=6\t\n",
      "3X3=9\t\n",
      "5X1=5\t\n",
      "5X2=10\t\n",
      "5X3=15\t\n",
      "5X4=20\t\n",
      "5X5=25\t\n",
      "7X1=7\t\n",
      "7X2=14\t\n",
      "7X3=21\t\n",
      "7X4=28\t\n",
      "7X5=35\t\n",
      "7X6=42\t\n",
      "7X7=49\t\n",
      "9X1=9\t\n",
      "9X2=18\t\n",
      "9X3=27\t\n",
      "9X4=36\t\n",
      "9X5=45\t\n",
      "9X6=54\t\n",
      "9X7=63\t\n",
      "9X8=72\t\n",
      "9X9=81\t\n"
     ]
    }
   ],
   "source": [
    "stop=[2,4,6,8]\n",
    "for i in range(3,10):\n",
    "    for j in range(1,i+1):\n",
    "        if i in stop:\n",
    "            continue\n",
    "        else:\n",
    "            print('{}X{}={}\\t'.format(i,j,i*j))"
   ]
  }
 ],
 "metadata": {
  "interpreter": {
   "hash": "97ae724bfa85b9b34df7982b8bb8c7216f435b92902d749e4263f71162bea840"
  },
  "kernelspec": {
   "display_name": "Python 3.9.7 64-bit ('base': conda)",
   "language": "python",
   "name": "python3"
  },
  "language_info": {
   "codemirror_mode": {
    "name": "ipython",
    "version": 3
   },
   "file_extension": ".py",
   "mimetype": "text/x-python",
   "name": "python",
   "nbconvert_exporter": "python",
   "pygments_lexer": "ipython3",
   "version": "3.9.7"
  },
  "orig_nbformat": 4
 },
 "nbformat": 4,
 "nbformat_minor": 2
}
