{
 "cells": [
  {
   "cell_type": "code",
   "execution_count": 1,
   "metadata": {},
   "outputs": [
    {
     "name": "stdout",
     "output_type": "stream",
     "text": [
      "1 2 3 4 5 6 7 8 9 10 "
     ]
    }
   ],
   "source": [
    "n=1\n",
    "while n<=10:\n",
    "    print(n,end=' ')\n",
    "    n+=1"
   ]
  },
  {
   "cell_type": "code",
   "execution_count": 2,
   "metadata": {},
   "outputs": [
    {
     "name": "stdout",
     "output_type": "stream",
     "text": [
      "1 2 3 4 "
     ]
    }
   ],
   "source": [
    "n=1\n",
    "while True:\n",
    "    if n==5:\n",
    "        break\n",
    "    print(n,end=' ')\n",
    "    n+=1"
   ]
  },
  {
   "cell_type": "code",
   "execution_count": 7,
   "metadata": {},
   "outputs": [
    {
     "name": "stdout",
     "output_type": "stream",
     "text": [
      "정답입니다\n"
     ]
    }
   ],
   "source": [
    "# 한국의 수도=서울,seoul break\n",
    "while True:\n",
    "    answer=str(input('한국의 수도는?'))\n",
    "    if answer=='서울' or answer== 'seoul':\n",
    "        print('정답입니다')\n",
    "        break\n",
    "    else:\n",
    "        print('정답이 아닙니다')\n"
   ]
  },
  {
   "cell_type": "code",
   "execution_count": 22,
   "metadata": {},
   "outputs": [
    {
     "name": "stdout",
     "output_type": "stream",
     "text": [
      "shfo가 저장됩니다.\n",
      "['shfo']\n",
      "프로그램을 종료합니다.\n"
     ]
    }
   ],
   "source": [
    "hobbies=list()\n",
    "while True:\n",
    "    hobby=str(input('너의 취미는 뭐야? (종료는 123)'))\n",
    "    hobbies.append(hobby)\n",
    "    if hobby==str('123'):\n",
    "        print('프로그램을 종료합니다.')\n",
    "        break\n",
    "    else:\n",
    "        print('{}가 저장됩니다.'.format(hobby))\n",
    "        print(hobbies)"
   ]
  }
 ],
 "metadata": {
  "interpreter": {
   "hash": "97ae724bfa85b9b34df7982b8bb8c7216f435b92902d749e4263f71162bea840"
  },
  "kernelspec": {
   "display_name": "Python 3.9.7 64-bit ('base': conda)",
   "language": "python",
   "name": "python3"
  },
  "language_info": {
   "codemirror_mode": {
    "name": "ipython",
    "version": 3
   },
   "file_extension": ".py",
   "mimetype": "text/x-python",
   "name": "python",
   "nbconvert_exporter": "python",
   "pygments_lexer": "ipython3",
   "version": "3.9.7"
  },
  "orig_nbformat": 4
 },
 "nbformat": 4,
 "nbformat_minor": 2
}
