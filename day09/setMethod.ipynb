{
 "cells": [
  {
   "cell_type": "code",
   "execution_count": 6,
   "metadata": {},
   "outputs": [
    {
     "name": "stdout",
     "output_type": "stream",
     "text": [
      "{'apple', 'banana'}\n",
      "{'apple', 'banana'}\n"
     ]
    }
   ],
   "source": [
    "s1={'apple','banana','cherry'}\n",
    "s2={'apple','banana','orange'}\n",
    "print(s1&s2)\n",
    "print(s1.intersection(s2))"
   ]
  },
  {
   "cell_type": "code",
   "execution_count": 5,
   "metadata": {},
   "outputs": [
    {
     "name": "stdout",
     "output_type": "stream",
     "text": [
      "{'banana', 'cherry', 'apple', 'orange'}\n",
      "{'banana', 'cherry', 'apple', 'orange'}\n"
     ]
    }
   ],
   "source": [
    "s1={'apple','banana','cherry'}\n",
    "s2={'apple','banana','orange'}\n",
    "print(s1|s2)\n",
    "print(s1.union(s2))"
   ]
  },
  {
   "cell_type": "code",
   "execution_count": 4,
   "metadata": {},
   "outputs": [
    {
     "name": "stdout",
     "output_type": "stream",
     "text": [
      "{'cherry'}\n",
      "{'cherry'}\n"
     ]
    }
   ],
   "source": [
    "s1={'apple','banana','cherry'}\n",
    "s2={'apple','banana','orange'}\n",
    "print(s1-s2)\n",
    "print(s1.difference(s2))"
   ]
  }
 ],
 "metadata": {
  "interpreter": {
   "hash": "97ae724bfa85b9b34df7982b8bb8c7216f435b92902d749e4263f71162bea840"
  },
  "kernelspec": {
   "display_name": "Python 3.9.7 64-bit ('base': conda)",
   "language": "python",
   "name": "python3"
  },
  "language_info": {
   "codemirror_mode": {
    "name": "ipython",
    "version": 3
   },
   "file_extension": ".py",
   "mimetype": "text/x-python",
   "name": "python",
   "nbconvert_exporter": "python",
   "pygments_lexer": "ipython3",
   "version": "3.9.7"
  },
  "orig_nbformat": 4
 },
 "nbformat": 4,
 "nbformat_minor": 2
}
