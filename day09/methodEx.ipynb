{
 "cells": [
  {
   "cell_type": "code",
   "execution_count": 5,
   "metadata": {},
   "outputs": [
    {
     "name": "stdout",
     "output_type": "stream",
     "text": [
      "4\n",
      "목 긴 기린 그림이고, 네가 그린 기린 그림은 목 짧은 기린 그림이다.\n",
      "3\n",
      "은 목 짧은 기린 그림이다.\n",
      "1\n"
     ]
    }
   ],
   "source": [
    "# count 문자열에서 특정 문자열의 개수를 반환\n",
    "s='내가 그린 기린 그림은 목 긴 기린 그림이고, 네가 그린 기린 그림은 목 짧은 기린 그림이다.'\n",
    "print(s.count('기린'))\n",
    "print(s[13:])\n",
    "print(s.count('기린',13))\n",
    "print(s[-15:])\n",
    "print(s.count('기린',-15))"
   ]
  },
  {
   "cell_type": "code",
   "execution_count": 11,
   "metadata": {},
   "outputs": [
    {
     "name": "stdout",
     "output_type": "stream",
     "text": [
      "린 기린 그림은 목 긴 기린 그림이고, 네가 그린 기린 그림은 목 짧은 기린 그림이다.\n",
      "9\n",
      "-1\n",
      "9\n"
     ]
    }
   ],
   "source": [
    "#find 문자열에서 특정 문자열의 위치를 찾는 것\n",
    "s='내가 그린 기린 그림은 목 긴 기린 그림이고, 네가 그린 기린 그림은 목 짧은 기린 그림이다.'\n",
    "s.find('그')\n",
    "print(s[4:])\n",
    "print(s.find('그',4))\n",
    "print(s.find('a')) #찾는 값이 없을때 -1반환\n",
    "print(s.find('그림'))#첫번째 글자 기준으로 반환\n",
    "print(s.rfind('그림'))#오른쪽에서부터 찾기"
   ]
  },
  {
   "cell_type": "code",
   "execution_count": 20,
   "metadata": {},
   "outputs": [
    {
     "name": "stdout",
     "output_type": "stream",
     "text": [
      "{3, 35, 9, 47, 20, 29, -1}\n"
     ]
    }
   ],
   "source": [
    "s='내가 그린 기린 그림은 목 긴 기린 그림이고, 네가 그린 기린 그림은 목 짧은 기린 그림이다.'\n",
    "li=[]\n",
    "i=0\n",
    "while (i<len(s)):\n",
    "    i=s.find('그',i)\n",
    "    if i==-1:\n",
    "       break\n",
    "    else:\n",
    "        li.append(i)\n",
    "        i+=1\n",
    "print(li)\n"
   ]
  },
  {
   "cell_type": "code",
   "execution_count": 22,
   "metadata": {},
   "outputs": [
    {
     "name": "stdout",
     "output_type": "stream",
     "text": [
      "Best of best\n",
      "BEST OF BEST\n",
      "best of best\n"
     ]
    }
   ],
   "source": [
    "s='Best of Best'\n",
    "print(s.capitalize())#앞 글자만 대문자\n",
    "print(s.upper())#모두 다 대문자\n",
    "print(s.lower())#모두 다 소문자"
   ]
  },
  {
   "cell_type": "code",
   "execution_count": 26,
   "metadata": {},
   "outputs": [
    {
     "name": "stdout",
     "output_type": "stream",
     "text": [
      "p^y^t^h^o^n\n",
      "a:b:c\n",
      "abc\n",
      "a&!@b&!@c\n"
     ]
    }
   ],
   "source": [
    "#문자열\n",
    "print('^'.join('python'))\n",
    "#리스트\n",
    "print(':'.join(['a','b','c']))\n",
    "print(''.join(['a','b','c']))\n",
    "#딕셔너리\n",
    "print('&!@'.join({'a':'ㅁㄴㅇㄹ','b':'sdgre','c':'cladsa'}))"
   ]
  },
  {
   "cell_type": "code",
   "execution_count": 34,
   "metadata": {},
   "outputs": [
    {
     "name": "stdout",
     "output_type": "stream",
     "text": [
      "['Life', 'is', 'too', 'short']\n",
      "['010', '1234', '0942']\n",
      "['제임스', '25', '남', '서울']\n"
     ]
    }
   ],
   "source": [
    "s='Life is too short'\n",
    "print(s.split())\n",
    "s='010-1234-0942'\n",
    "print(s.split('-'))\n",
    "s='제임스,25,남,서울'\n",
    "print(s.split(','))"
   ]
  },
  {
   "cell_type": "code",
   "execution_count": 35,
   "metadata": {},
   "outputs": [
    {
     "name": "stdout",
     "output_type": "stream",
     "text": [
      "Life is too long\n",
      "010,1234,0942\n",
      "제임스:25:남:서울\n"
     ]
    }
   ],
   "source": [
    "s='Life is too short'\n",
    "print(s.replace('short','long'))\n",
    "s='010-1234-0942'\n",
    "print(s.replace('-',','))\n",
    "s='제임스,25,남,서울'\n",
    "print(s.replace(',',':'))"
   ]
  },
  {
   "cell_type": "code",
   "execution_count": 38,
   "metadata": {},
   "outputs": [
    {
     "name": "stdout",
     "output_type": "stream",
     "text": [
      "Life il too lhort\n"
     ]
    }
   ],
   "source": [
    "s='Life is too short'\n",
    "t='short'\n",
    "a='l'\n",
    "r=[]\n",
    "for i,v in enumerate(s):\n",
    "    if v=='s':\n",
    "        r.append(a)\n",
    "    else:\n",
    "        r.append(v)\n",
    "print(''.join(r))"
   ]
  },
  {
   "cell_type": "code",
   "execution_count": 41,
   "metadata": {},
   "outputs": [
    {
     "name": "stdout",
     "output_type": "stream",
     "text": [
      "01012340942\n"
     ]
    }
   ],
   "source": [
    "s='010-1234-0942'\n",
    "a=''\n",
    "t='-'\n",
    "r=[]\n",
    "for i,v in enumerate(s):\n",
    "    if v==t:\n",
    "        r.append(a)\n",
    "    else:\n",
    "        r.append(v)\n",
    "print(''.join(r))"
   ]
  },
  {
   "cell_type": "code",
   "execution_count": 51,
   "metadata": {},
   "outputs": [
    {
     "name": "stdout",
     "output_type": "stream",
     "text": [
      "10\n",
      "5\n",
      "10\n",
      "5\n",
      "10\n",
      "5\n",
      "apple\n",
      "pple\n"
     ]
    }
   ],
   "source": [
    "s='     apple'\n",
    "print(len(s))\n",
    "print(len(s.lstrip()))\n",
    "s='apple     '\n",
    "print(len(s))\n",
    "print(len(s.rstrip()))\n",
    "s='  apple   '\n",
    "print(len(s))\n",
    "print(len(s.strip()))\n",
    "print(s.strip())\n",
    "s='applea'\n",
    "print(s.strip().strip('a'))"
   ]
  },
  {
   "cell_type": "code",
   "execution_count": 74,
   "metadata": {},
   "outputs": [
    {
     "name": "stdout",
     "output_type": "stream",
     "text": [
      "중간 번호는 1234입니다\n"
     ]
    }
   ],
   "source": [
    "while True:\n",
    "    tel=input('-를 포함하여 전체 전화번호를 입력하세요>>>')\n",
    "    if tel.find('-')==3 and tel.find('-',5)==8:\n",
    "        mid=tel.split('-')[1]\n",
    "        print('중간 번호는 {}입니다'.format(mid))\n",
    "        break\n",
    "    else:\n",
    "        print('-의 위치가 잘못되었습니다.')"
   ]
  }
 ],
 "metadata": {
  "interpreter": {
   "hash": "97ae724bfa85b9b34df7982b8bb8c7216f435b92902d749e4263f71162bea840"
  },
  "kernelspec": {
   "display_name": "Python 3.9.7 64-bit ('base': conda)",
   "language": "python",
   "name": "python3"
  },
  "language_info": {
   "codemirror_mode": {
    "name": "ipython",
    "version": 3
   },
   "file_extension": ".py",
   "mimetype": "text/x-python",
   "name": "python",
   "nbconvert_exporter": "python",
   "pygments_lexer": "ipython3",
   "version": "3.9.7"
  },
  "orig_nbformat": 4
 },
 "nbformat": 4,
 "nbformat_minor": 2
}
